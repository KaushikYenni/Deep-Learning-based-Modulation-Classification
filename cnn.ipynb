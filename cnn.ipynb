{
  "nbformat": 4,
  "nbformat_minor": 0,
  "metadata": {
    "colab": {
      "name": "cnn_lite.ipynb",
      "provenance": [],
      "collapsed_sections": []
    },
    "kernelspec": {
      "name": "python3",
      "display_name": "Python 3"
    },
    "accelerator": "GPU"
  },
  "cells": [
    {
      "cell_type": "code",
      "metadata": {
        "id": "MvYM7kNiLzpm",
        "colab_type": "code",
        "colab": {
          "base_uri": "https://localhost:8080/",
          "height": 147
        },
        "outputId": "0fc65508-e906-4f53-c603-a8fbe729a153"
      },
      "source": [
        "from google.colab import drive\n",
        "drive.mount('/gdrive')\n",
        "%cd /gdrive"
      ],
      "execution_count": null,
      "outputs": [
        {
          "output_type": "stream",
          "text": [
            "Go to this URL in a browser: https://accounts.google.com/o/oauth2/auth?client_id=947318989803-6bn6qk8qdgf4n4g3pfee6491hc0brc4i.apps.googleusercontent.com&redirect_uri=urn%3aietf%3awg%3aoauth%3a2.0%3aoob&response_type=code&scope=email%20https%3a%2f%2fwww.googleapis.com%2fauth%2fdocs.test%20https%3a%2f%2fwww.googleapis.com%2fauth%2fdrive%20https%3a%2f%2fwww.googleapis.com%2fauth%2fdrive.photos.readonly%20https%3a%2f%2fwww.googleapis.com%2fauth%2fpeopleapi.readonly\n",
            "\n",
            "Enter your authorization code:\n",
            "··········\n",
            "Mounted at /gdrive\n",
            "/gdrive\n"
          ],
          "name": "stdout"
        }
      ]
    },
    {
      "cell_type": "code",
      "metadata": {
        "id": "TsTt6GxFNKS8",
        "colab_type": "code",
        "colab": {}
      },
      "source": [
        "acc_array_cumulants_rayleigh=[0.2500, 0.2458 ,   0.2542  ,  0.2833  ,  0.3167  ,  0.3958  ,  0.4125   , 0.5875  ,  0.6792 ,   0.7458  ,  0.8167 ,   0.8750,  0.9417 ,   0.9375 ,   0.9708 ,   0.9625]"
      ],
      "execution_count": null,
      "outputs": []
    },
    {
      "cell_type": "code",
      "metadata": {
        "id": "EsCWgXbkhJey",
        "colab_type": "code",
        "colab": {}
      },
      "source": [
        "acc_array_cumulants_awgn=[0.247500,0.247500,0.267500,0.242500,0.260000,0.315000,0.457500,0.632500,0.845000,0.950000,0.985000,1.000000,1.000000,1.000000,1.000000,1.000000]"
      ],
      "execution_count": null,
      "outputs": []
    },
    {
      "cell_type": "code",
      "metadata": {
        "id": "RIMHgn2ihdGK",
        "colab_type": "code",
        "colab": {
          "base_uri": "https://localhost:8080/",
          "height": 172
        },
        "outputId": "1757e5ae-f75e-4940-c79b-2621b1fcc966"
      },
      "source": [
        "np.mean(acc_array_cumulants_awgn)"
      ],
      "execution_count": null,
      "outputs": [
        {
          "output_type": "error",
          "ename": "NameError",
          "evalue": "ignored",
          "traceback": [
            "\u001b[0;31m---------------------------------------------------------------------------\u001b[0m",
            "\u001b[0;31mNameError\u001b[0m                                 Traceback (most recent call last)",
            "\u001b[0;32m<ipython-input-5-04996c0be491>\u001b[0m in \u001b[0;36m<module>\u001b[0;34m()\u001b[0m\n\u001b[0;32m----> 1\u001b[0;31m \u001b[0mnp\u001b[0m\u001b[0;34m.\u001b[0m\u001b[0mmean\u001b[0m\u001b[0;34m(\u001b[0m\u001b[0macc_array_cumulants_awgn\u001b[0m\u001b[0;34m)\u001b[0m\u001b[0;34m\u001b[0m\u001b[0;34m\u001b[0m\u001b[0m\n\u001b[0m",
            "\u001b[0;31mNameError\u001b[0m: name 'np' is not defined"
          ]
        }
      ]
    },
    {
      "cell_type": "markdown",
      "metadata": {
        "id": "9FGteCG9zv7y",
        "colab_type": "text"
      },
      "source": [
        "**CNN Lite** "
      ]
    },
    {
      "cell_type": "code",
      "metadata": {
        "id": "TQ6y3YBBNrac",
        "colab_type": "code",
        "colab": {}
      },
      "source": [
        "import numpy\n",
        "snrs=numpy.arange(-10,21,2)"
      ],
      "execution_count": null,
      "outputs": []
    },
    {
      "cell_type": "code",
      "metadata": {
        "id": "we8iXTJRONcw",
        "colab_type": "code",
        "colab": {
          "base_uri": "https://localhost:8080/",
          "height": 35
        },
        "outputId": "d9979d0d-fef0-4a01-c2ec-82a3fca1d9f6"
      },
      "source": [
        "snrs.shape"
      ],
      "execution_count": null,
      "outputs": [
        {
          "output_type": "execute_result",
          "data": {
            "text/plain": [
              "(16,)"
            ]
          },
          "metadata": {
            "tags": []
          },
          "execution_count": 7
        }
      ]
    },
    {
      "cell_type": "code",
      "metadata": {
        "id": "FHAvDnYJOQxP",
        "colab_type": "code",
        "colab": {
          "base_uri": "https://localhost:8080/",
          "height": 283
        },
        "outputId": "873e1680-8e2b-4757-bc2d-27e2236a44bd"
      },
      "source": [
        "import matplotlib.pyplot as plt\n",
        "plt.plot(snrs,acc_array_cumulants_awgn)"
      ],
      "execution_count": null,
      "outputs": [
        {
          "output_type": "execute_result",
          "data": {
            "text/plain": [
              "[<matplotlib.lines.Line2D at 0x7f5e8230b160>]"
            ]
          },
          "metadata": {
            "tags": []
          },
          "execution_count": 8
        },
        {
          "output_type": "display_data",
          "data": {
            "image/png": "[encoded data removed]",
            "text/plain": [
              "<Figure size 432x288 with 1 Axes>"
            ]
          },
          "metadata": {
            "tags": []
          }
        }
      ]
    },
    {
      "cell_type": "code",
      "metadata": {
        "id": "44AOrnsIQhDZ",
        "colab_type": "code",
        "colab": {
          "base_uri": "https://localhost:8080/",
          "height": 728
        },
        "outputId": "40c10e16-9f6e-4107-ee26-233315306b52"
      },
      "source": [
        "import numpy as np\n",
        "import tensorflow as tf\n",
        "import random as rn\n",
        "import os\n",
        "import json\n",
        "\n",
        "from keras import metrics, regularizers, optimizers, backend\n",
        "from keras.callbacks import TensorBoard, EarlyStopping\n",
        "from keras.models import Model\n",
        "from keras.layers import Input, Dense, Dropout, BatchNormalization, Conv2D, Flatten, pooling\n",
        "from keras.utils import np_utils, vis_utils\n",
        "\n",
        "import scipy.io as sio\n",
        "\n",
        "# fix random seed\n",
        "os.environ['PYTHONHASHSEED'] = '0'\n",
        "np.random.seed(2018)\n",
        "rn.seed(2018)\n",
        "session_conf = tf.ConfigProto(intra_op_parallelism_threads=1, inter_op_parallelism_threads=4)\n",
        "tf.set_random_seed(2018)\n",
        "sess = tf.Session(graph=tf.get_default_graph(), config=session_conf)\n",
        "backend.set_session(sess)\n",
        "\n",
        "seqLen = 128\n",
        "nClass = 4\n",
        "samNum = 100000 * nClass\n",
        "# load train data\n",
        "x_data_mat = sio.loadmat('/gdrive/My Drive/train_data_rayleigh_100k.mat')\n",
        "x_data_complex = x_data_mat['train_data']\n",
        "x_data_real = x_data_complex.real\n",
        "x_data_imag = x_data_complex.imag\n",
        "x_data_real = x_data_real.reshape((x_data_real.shape[0], seqLen, 1))\n",
        "x_data_imag = x_data_imag.reshape((x_data_imag.shape[0], seqLen, 1))\n",
        "x_train = np.stack((x_data_real, x_data_imag), axis=1)\n",
        "y_data_mat = sio.loadmat('/gdrive/My Drive/train_label_rayleigh_100k.mat')\n",
        "y_data = y_data_mat['train_label'][:,0]\n",
        "y_snrs = y_data_mat['train_label'][:,1]\n",
        "y_train = np_utils.to_categorical(y_data, nClass)\n",
        "# train data shuffle\n",
        "index = np.arange(y_train.shape[0])\n",
        "np.random.shuffle(index)\n",
        "x_train = x_train[index,:]\n",
        "y_train = y_train[index]\n",
        "\n",
        "_in_ = Input(shape = (x_train.shape[1], x_train.shape[2], 1))\n",
        "ot = Conv2D(filters=64, kernel_size=(2,4), strides=1, padding='valid', use_bias=True, activation='relu')(_in_)\n",
        "ot = Conv2D(filters=16, kernel_size=(1,4), strides=1, padding='valid', use_bias=True, activation='relu')(ot)\n",
        "ot = Flatten()(ot)\n",
        "ot = BatchNormalization(axis=-1, momentum=0.99, epsilon=0.001, center=True, scale=True)(ot)\n",
        "ot = Dense(64, use_bias=True, activation='relu')(ot)\n",
        "ot = Dense(16, use_bias=True, activation='relu')(ot)\n",
        "_out_ = Dense(nClass, activation='softmax')(ot)\n",
        "model = Model(_in_, _out_)\n",
        "\n",
        "tensor_board = TensorBoard(log_dir='./tensorboard_log', histogram_freq=0, write_graph=True, write_images=False,\n",
        "                            embeddings_freq=0, embeddings_layer_names=None, embeddings_metadata=None)\n",
        "early_stopping = EarlyStopping(monitor='val_loss', patience=20)\n",
        "adam = optimizers.Adam(lr=0.001, beta_1=0.9, beta_2=0.999, epsilon=1e-08)\n",
        "model.compile(loss='categorical_crossentropy',\n",
        "               optimizer=adam, \n",
        "               metrics=['categorical_accuracy'])\n",
        "model.summary()\n",
        "model.fit(x_train,y_train, \n",
        "          epochs=100, \n",
        "          batch_size=128,\n",
        "          validation_split=0.1,\n",
        "          shuffle=True,callbacks=[early_stopping])\n",
        "\n",
        "#scores = model.evaluate(x_train, y_train)\n",
        "#print(\" %s %f\" % (model.metrics_names[1], scores[1]))\n",
        "    \n"
      ],
      "execution_count": null,
      "outputs": [
        {
          "output_type": "display_data",
          "data": {
            "text/html": [
              "<p style=\"color: red;\">\n",
              "The default version of TensorFlow in Colab will soon switch to TensorFlow 2.x.<br>\n",
              "We recommend you <a href=\"https://www.tensorflow.org/guide/migrate\" target=\"_blank\">upgrade</a> now \n",
              "or ensure your notebook will continue to use TensorFlow 1.x via the <code>%tensorflow_version 1.x</code> magic:\n",
              "<a href=\"https://colab.research.google.com/notebooks/tensorflow_version.ipynb\" target=\"_blank\">more info</a>.</p>\n"
            ],
            "text/plain": [
              "<IPython.core.display.HTML object>"
            ]
          },
          "metadata": {
            "tags": []
          }
        },
        {
          "output_type": "stream",
          "text": [
            "Using TensorFlow backend.\n"
          ],
          "name": "stderr"
        },
        {
          "output_type": "stream",
          "text": [
            "WARNING:tensorflow:From /usr/local/lib/python3.6/dist-packages/keras/backend/tensorflow_backend.py:541: The name tf.placeholder is deprecated. Please use tf.compat.v1.placeholder instead.\n",
            "\n",
            "WARNING:tensorflow:From /usr/local/lib/python3.6/dist-packages/keras/backend/tensorflow_backend.py:4432: The name tf.random_uniform is deprecated. Please use tf.random.uniform instead.\n",
            "\n",
            "WARNING:tensorflow:From /usr/local/lib/python3.6/dist-packages/keras/backend/tensorflow_backend.py:148: The name tf.placeholder_with_default is deprecated. Please use tf.compat.v1.placeholder_with_default instead.\n",
            "\n",
            "WARNING:tensorflow:From /usr/local/lib/python3.6/dist-packages/keras/optimizers.py:793: The name tf.train.Optimizer is deprecated. Please use tf.compat.v1.train.Optimizer instead.\n",
            "\n",
            "WARNING:tensorflow:From /usr/local/lib/python3.6/dist-packages/keras/backend/tensorflow_backend.py:3576: The name tf.log is deprecated. Please use tf.math.log instead.\n",
            "\n",
            "Model: \"model_1\"\n",
            "_________________________________________________________________\n",
            "Layer (type)                 Output Shape              Param #   \n",
            "=================================================================\n",
            "input_1 (InputLayer)         (None, 2, 128, 1)         0         \n",
            "_________________________________________________________________\n",
            "conv2d_1 (Conv2D)            (None, 1, 125, 64)        576       \n",
            "_________________________________________________________________\n",
            "conv2d_2 (Conv2D)            (None, 1, 122, 16)        4112      \n",
            "_________________________________________________________________\n",
            "flatten_1 (Flatten)          (None, 1952)              0         \n",
            "_________________________________________________________________\n",
            "batch_normalization_1 (Batch (None, 1952)              7808      \n",
            "_________________________________________________________________\n",
            "dense_1 (Dense)              (None, 64)                124992    \n",
            "_________________________________________________________________\n",
            "dense_2 (Dense)              (None, 16)                1040      \n",
            "_________________________________________________________________\n",
            "dense_3 (Dense)              (None, 4)                 68        \n",
            "=================================================================\n",
            "Total params: 138,596\n",
            "Trainable params: 134,692\n",
            "Non-trainable params: 3,904\n",
            "_________________________________________________________________\n"
          ],
          "name": "stdout"
        }
      ]
    },
    {
      "cell_type": "code",
      "metadata": {
        "id": "z8zKKKGQwOVy",
        "colab_type": "code",
        "colab": {}
      },
      "source": [
        "model.save_weights('/gdrive/My Drive/model_weights_cnn_lite_rayleigh.h5')"
      ],
      "execution_count": null,
      "outputs": []
    },
    {
      "cell_type": "code",
      "metadata": {
        "id": "8PTzrkPpQUCX",
        "colab_type": "code",
        "colab": {}
      },
      "source": [
        "model.load_weights('/gdrive/My Drive/model_weights_cnn_lite_awgn.h5')"
      ],
      "execution_count": null,
      "outputs": []
    },
    {
      "cell_type": "code",
      "metadata": {
        "id": "3-mepsHKNpo8",
        "colab_type": "code",
        "colab": {}
      },
      "source": [
        "X_test_mat=sio.loadmat('/gdrive/My Drive/train_data_rayleigh_10k.mat')\n",
        "Y_test_mat=sio.loadmat('/gdrive/My Drive/train_label_awgn_10k.mat')\n",
        "X_test_complex = X_test_mat['train_data']\n",
        "X_test_real = X_test_complex.real\n",
        "X_test_imag = X_test_complex.imag\n",
        "X_test_real = X_test_real.reshape((X_test_real.shape[0], seqLen, 1))\n",
        "X_test_imag = X_test_imag.reshape((X_test_imag.shape[0], seqLen, 1))\n",
        "X_test = np.stack((X_test_real, X_test_imag), axis=1)"
      ],
      "execution_count": null,
      "outputs": []
    },
    {
      "cell_type": "code",
      "metadata": {
        "id": "1wEESV2BQEYA",
        "colab_type": "code",
        "colab": {
          "base_uri": "https://localhost:8080/",
          "height": 398
        },
        "outputId": "3288a7bd-d15c-4e2a-ec9b-e3c15f0cb2ce"
      },
      "source": [
        "fucked=Y_test_mat['train_label']\n",
        "Y_test=fucked[:,0]\n",
        "Y_test_snrs=fucked[:,1]\n",
        "Y_test=np_utils.to_categorical(Y_test,4)\n",
        "\n",
        "score = model.evaluate(X_test, Y_test,  verbose=0)\n",
        "print(score)\n",
        "#test_Y_hat = model.predict(X_test)"
      ],
      "execution_count": null,
      "outputs": [
        {
          "output_type": "error",
          "ename": "ValueError",
          "evalue": "ignored",
          "traceback": [
            "\u001b[0;31m---------------------------------------------------------------------------\u001b[0m",
            "\u001b[0;31mValueError\u001b[0m                                Traceback (most recent call last)",
            "\u001b[0;32m<ipython-input-30-088fd833ca53>\u001b[0m in \u001b[0;36m<module>\u001b[0;34m()\u001b[0m\n\u001b[1;32m      4\u001b[0m \u001b[0mY_test\u001b[0m\u001b[0;34m=\u001b[0m\u001b[0mnp_utils\u001b[0m\u001b[0;34m.\u001b[0m\u001b[0mto_categorical\u001b[0m\u001b[0;34m(\u001b[0m\u001b[0mY_test\u001b[0m\u001b[0;34m,\u001b[0m\u001b[0;36m4\u001b[0m\u001b[0;34m)\u001b[0m\u001b[0;34m\u001b[0m\u001b[0;34m\u001b[0m\u001b[0m\n\u001b[1;32m      5\u001b[0m \u001b[0;34m\u001b[0m\u001b[0m\n\u001b[0;32m----> 6\u001b[0;31m \u001b[0mscore\u001b[0m \u001b[0;34m=\u001b[0m \u001b[0mmodel\u001b[0m\u001b[0;34m.\u001b[0m\u001b[0mevaluate\u001b[0m\u001b[0;34m(\u001b[0m\u001b[0mX_test\u001b[0m\u001b[0;34m,\u001b[0m \u001b[0mY_test\u001b[0m\u001b[0;34m,\u001b[0m  \u001b[0mverbose\u001b[0m\u001b[0;34m=\u001b[0m\u001b[0;36m0\u001b[0m\u001b[0;34m)\u001b[0m\u001b[0;34m\u001b[0m\u001b[0;34m\u001b[0m\u001b[0m\n\u001b[0m\u001b[1;32m      7\u001b[0m \u001b[0mprint\u001b[0m\u001b[0;34m(\u001b[0m\u001b[0mscore\u001b[0m\u001b[0;34m)\u001b[0m\u001b[0;34m\u001b[0m\u001b[0;34m\u001b[0m\u001b[0m\n\u001b[1;32m      8\u001b[0m \u001b[0;31m#test_Y_hat = model.predict(X_test)\u001b[0m\u001b[0;34m\u001b[0m\u001b[0;34m\u001b[0m\u001b[0;34m\u001b[0m\u001b[0m\n",
            "\u001b[0;32m/usr/local/lib/python3.6/dist-packages/keras/engine/training.py\u001b[0m in \u001b[0;36mevaluate\u001b[0;34m(self, x, y, batch_size, verbose, sample_weight, steps, callbacks, max_queue_size, workers, use_multiprocessing)\u001b[0m\n\u001b[1;32m   1286\u001b[0m             \u001b[0mx\u001b[0m\u001b[0;34m,\u001b[0m \u001b[0my\u001b[0m\u001b[0;34m,\u001b[0m\u001b[0;34m\u001b[0m\u001b[0;34m\u001b[0m\u001b[0m\n\u001b[1;32m   1287\u001b[0m             \u001b[0msample_weight\u001b[0m\u001b[0;34m=\u001b[0m\u001b[0msample_weight\u001b[0m\u001b[0;34m,\u001b[0m\u001b[0;34m\u001b[0m\u001b[0;34m\u001b[0m\u001b[0m\n\u001b[0;32m-> 1288\u001b[0;31m             batch_size=batch_size)\n\u001b[0m\u001b[1;32m   1289\u001b[0m         \u001b[0;31m# Prepare inputs, delegate logic to `test_loop`.\u001b[0m\u001b[0;34m\u001b[0m\u001b[0;34m\u001b[0m\u001b[0;34m\u001b[0m\u001b[0m\n\u001b[1;32m   1290\u001b[0m         \u001b[0;32mif\u001b[0m \u001b[0mself\u001b[0m\u001b[0;34m.\u001b[0m\u001b[0m_uses_dynamic_learning_phase\u001b[0m\u001b[0;34m(\u001b[0m\u001b[0;34m)\u001b[0m\u001b[0;34m:\u001b[0m\u001b[0;34m\u001b[0m\u001b[0;34m\u001b[0m\u001b[0m\n",
            "\u001b[0;32m/usr/local/lib/python3.6/dist-packages/keras/engine/training.py\u001b[0m in \u001b[0;36m_standardize_user_data\u001b[0;34m(self, x, y, sample_weight, class_weight, check_array_lengths, batch_size)\u001b[0m\n\u001b[1;32m    755\u001b[0m             \u001b[0mfeed_input_shapes\u001b[0m\u001b[0;34m,\u001b[0m\u001b[0;34m\u001b[0m\u001b[0;34m\u001b[0m\u001b[0m\n\u001b[1;32m    756\u001b[0m             \u001b[0mcheck_batch_axis\u001b[0m\u001b[0;34m=\u001b[0m\u001b[0;32mFalse\u001b[0m\u001b[0;34m,\u001b[0m  \u001b[0;31m# Don't enforce the batch size.\u001b[0m\u001b[0;34m\u001b[0m\u001b[0;34m\u001b[0m\u001b[0m\n\u001b[0;32m--> 757\u001b[0;31m             exception_prefix='input')\n\u001b[0m\u001b[1;32m    758\u001b[0m \u001b[0;34m\u001b[0m\u001b[0m\n\u001b[1;32m    759\u001b[0m         \u001b[0;32mif\u001b[0m \u001b[0my\u001b[0m \u001b[0;32mis\u001b[0m \u001b[0;32mnot\u001b[0m \u001b[0;32mNone\u001b[0m\u001b[0;34m:\u001b[0m\u001b[0;34m\u001b[0m\u001b[0;34m\u001b[0m\u001b[0m\n",
            "\u001b[0;32m/usr/local/lib/python3.6/dist-packages/keras/engine/training_utils.py\u001b[0m in \u001b[0;36mstandardize_input_data\u001b[0;34m(data, names, shapes, check_batch_axis, exception_prefix)\u001b[0m\n\u001b[1;32m    129\u001b[0m                         \u001b[0;34m': expected '\u001b[0m \u001b[0;34m+\u001b[0m \u001b[0mnames\u001b[0m\u001b[0;34m[\u001b[0m\u001b[0mi\u001b[0m\u001b[0;34m]\u001b[0m \u001b[0;34m+\u001b[0m \u001b[0;34m' to have '\u001b[0m \u001b[0;34m+\u001b[0m\u001b[0;34m\u001b[0m\u001b[0;34m\u001b[0m\u001b[0m\n\u001b[1;32m    130\u001b[0m                         \u001b[0mstr\u001b[0m\u001b[0;34m(\u001b[0m\u001b[0mlen\u001b[0m\u001b[0;34m(\u001b[0m\u001b[0mshape\u001b[0m\u001b[0;34m)\u001b[0m\u001b[0;34m)\u001b[0m \u001b[0;34m+\u001b[0m \u001b[0;34m' dimensions, but got array '\u001b[0m\u001b[0;34m\u001b[0m\u001b[0;34m\u001b[0m\u001b[0m\n\u001b[0;32m--> 131\u001b[0;31m                         'with shape ' + str(data_shape))\n\u001b[0m\u001b[1;32m    132\u001b[0m                 \u001b[0;32mif\u001b[0m \u001b[0;32mnot\u001b[0m \u001b[0mcheck_batch_axis\u001b[0m\u001b[0;34m:\u001b[0m\u001b[0;34m\u001b[0m\u001b[0;34m\u001b[0m\u001b[0m\n\u001b[1;32m    133\u001b[0m                     \u001b[0mdata_shape\u001b[0m \u001b[0;34m=\u001b[0m \u001b[0mdata_shape\u001b[0m\u001b[0;34m[\u001b[0m\u001b[0;36m1\u001b[0m\u001b[0;34m:\u001b[0m\u001b[0;34m]\u001b[0m\u001b[0;34m\u001b[0m\u001b[0;34m\u001b[0m\u001b[0m\n",
            "\u001b[0;31mValueError\u001b[0m: Error when checking input: expected reshape_1_input to have 3 dimensions, but got array with shape (40000, 2, 128, 1)"
          ]
        }
      ]
    },
    {
      "cell_type": "code",
      "metadata": {
        "id": "xP1nYDqhKyfg",
        "colab_type": "code",
        "colab": {
          "base_uri": "https://localhost:8080/",
          "height": 605
        },
        "outputId": "f0fb3d40-2660-415b-9b27-5c5cfd0b5c0c"
      },
      "source": [
        "acc_cnn2_awgn = {}\n",
        "\n",
        "for snr in snrs:\n",
        "    # extract classes @ SNR\n",
        "    #test_SNRs = list(map(lambda x: lbl[x][1], test_idx))\n",
        "    test_X_i = X_test[np.where(np.array(Y_test_snrs)==snr)]\n",
        "    test_Y_i = Y_test[np.where(np.array(Y_test_snrs)==snr)]  \n",
        "    test_Y_i_hat = model.predict(test_X_i)\n",
        "    conf = np.zeros([4,4])\n",
        "    confnorm = np.zeros([4,4])\n",
        "    for i in range(0,test_X_i.shape[0]):\n",
        "        j = list(test_Y_i[i,:]).index(1)\n",
        "        k = int(np.argmax(test_Y_i_hat[i,:]))\n",
        "        conf[j,k] = conf[j,k] + 1\n",
        "    for i in range(0,4):\n",
        "        confnorm[i,:] = conf[i,:] / np.sum(conf[i,:])\n",
        "    #plt.figure()\n",
        "    #plot_confusion_matrix(confnorm, labels=classes, title=\"ConvNet Confusion Matrix (SNR=%d)\"%(snr))\n",
        "    \n",
        "    cor = np.sum(np.diag(conf))\n",
        "    ncor = np.sum(conf) - cor\n",
        "    print(\"Overall Accuracy: \", cor / (cor+ncor))\n",
        "    print(\"snr=\",snr)\n",
        "    acc_cnn2_awgn[snr] = 1.0*cor/(cor+ncor)"
      ],
      "execution_count": null,
      "outputs": [
        {
          "output_type": "stream",
          "text": [
            "Overall Accuracy:  0.3050430504305043\n",
            "snr= -10\n",
            "Overall Accuracy:  0.31946144430844553\n",
            "snr= -8\n",
            "Overall Accuracy:  0.40622537431048067\n",
            "snr= -6\n",
            "Overall Accuracy:  0.46064623032311514\n",
            "snr= -4\n",
            "Overall Accuracy:  0.5367118914604948\n",
            "snr= -2\n",
            "Overall Accuracy:  0.63469068128426\n",
            "snr= 0\n",
            "Overall Accuracy:  0.7892196299275945\n",
            "snr= 2\n",
            "Overall Accuracy:  0.8952496954933008\n",
            "snr= 4\n",
            "Overall Accuracy:  0.9693715194908512\n",
            "snr= 6\n",
            "Overall Accuracy:  0.9909341742215215\n",
            "snr= 8\n",
            "Overall Accuracy:  0.9984429739198132\n",
            "snr= 10\n",
            "Overall Accuracy:  1.0\n",
            "snr= 12\n",
            "Overall Accuracy:  1.0\n",
            "snr= 14\n",
            "Overall Accuracy:  1.0\n",
            "snr= 16\n",
            "Overall Accuracy:  1.0\n",
            "snr= 18\n",
            "Overall Accuracy:  1.0\n",
            "snr= 20\n"
          ],
          "name": "stdout"
        }
      ]
    },
    {
      "cell_type": "code",
      "metadata": {
        "id": "3_yRpz9_Ts7j",
        "colab_type": "code",
        "colab": {
          "base_uri": "https://localhost:8080/",
          "height": 279
        },
        "outputId": "840836e7-778e-4ccc-e667-d39289911d90"
      },
      "source": [
        "plt.plot(snrs, list(map(lambda x: acc_cnn2_awgn[x], snrs)),'k--',label='2 layer CNN')\n",
        "plt.plot(snrs, acc_array_cumulants_awgn,'k-',label='Cumulants')\n",
        "plt.xlabel(\"Signal to Noise Ratio\")\n",
        "plt.ylabel(\"Accuracy\")\n",
        "plt.legend()\n",
        "plt.savefig('/gdrive/My Drive/cnn2_vs_cum_awgn.png',figsize=(15,7.5), dpi= 100)\t#save image"
      ],
      "execution_count": null,
      "outputs": [
        {
          "output_type": "display_data",
          "data": {
            "image/png": "[encoded data removed]",
            "text/plain": [
              "<Figure size 432x288 with 1 Axes>"
            ]
          },
          "metadata": {
            "tags": []
          }
        }
      ]
    },
    {
      "cell_type": "code",
      "metadata": {
        "id": "f9LBG1PQT5TE",
        "colab_type": "code",
        "colab": {
          "base_uri": "https://localhost:8080/",
          "height": 311
        },
        "outputId": "d45e11a6-e87c-47b4-998e-f2a09eea8080"
      },
      "source": [
        "list(map(lambda x: acc_cnn2_awgn[x], snrs))"
      ],
      "execution_count": null,
      "outputs": [
        {
          "output_type": "execute_result",
          "data": {
            "text/plain": [
              "[0.3050430504305043,\n",
              " 0.31946144430844553,\n",
              " 0.40622537431048067,\n",
              " 0.46064623032311514,\n",
              " 0.5367118914604948,\n",
              " 0.63469068128426,\n",
              " 0.7892196299275945,\n",
              " 0.8952496954933008,\n",
              " 0.9693715194908512,\n",
              " 0.9909341742215215,\n",
              " 0.9984429739198132,\n",
              " 1.0,\n",
              " 1.0,\n",
              " 1.0,\n",
              " 1.0,\n",
              " 1.0]"
            ]
          },
          "metadata": {
            "tags": []
          },
          "execution_count": 110
        }
      ]
    },
    {
      "cell_type": "code",
      "metadata": {
        "id": "0DMC35JcUGN-",
        "colab_type": "code",
        "colab": {
          "base_uri": "https://localhost:8080/",
          "height": 632
        },
        "outputId": "c65f3f70-1163-4995-c7e9-125ab320de1c"
      },
      "source": [
        "plt.plot(snrs,acc,label='cnn')\n",
        "plt.plot(snrs,acc_array_cumulants_awgn,label='cum')\n",
        "plt.legend()\n",
        "\n"
      ],
      "execution_count": null,
      "outputs": [
        {
          "output_type": "error",
          "ename": "ValueError",
          "evalue": "ignored",
          "traceback": [
            "\u001b[0;31m---------------------------------------------------------------------------\u001b[0m",
            "\u001b[0;31mValueError\u001b[0m                                Traceback (most recent call last)",
            "\u001b[0;32m<ipython-input-77-5d50d1bb7bff>\u001b[0m in \u001b[0;36m<module>\u001b[0;34m()\u001b[0m\n\u001b[0;32m----> 1\u001b[0;31m \u001b[0mplt\u001b[0m\u001b[0;34m.\u001b[0m\u001b[0mplot\u001b[0m\u001b[0;34m(\u001b[0m\u001b[0msnrs\u001b[0m\u001b[0;34m,\u001b[0m\u001b[0macc\u001b[0m\u001b[0;34m,\u001b[0m\u001b[0mlabel\u001b[0m\u001b[0;34m=\u001b[0m\u001b[0;34m'cnn'\u001b[0m\u001b[0;34m)\u001b[0m\u001b[0;34m\u001b[0m\u001b[0;34m\u001b[0m\u001b[0m\n\u001b[0m\u001b[1;32m      2\u001b[0m \u001b[0mplt\u001b[0m\u001b[0;34m.\u001b[0m\u001b[0mplot\u001b[0m\u001b[0;34m(\u001b[0m\u001b[0msnrs\u001b[0m\u001b[0;34m,\u001b[0m\u001b[0macc_array_cumulants_awgn\u001b[0m\u001b[0;34m,\u001b[0m\u001b[0mlabel\u001b[0m\u001b[0;34m=\u001b[0m\u001b[0;34m'cum'\u001b[0m\u001b[0;34m)\u001b[0m\u001b[0;34m\u001b[0m\u001b[0;34m\u001b[0m\u001b[0m\n\u001b[1;32m      3\u001b[0m \u001b[0mplt\u001b[0m\u001b[0;34m.\u001b[0m\u001b[0mlegend\u001b[0m\u001b[0;34m(\u001b[0m\u001b[0;34m)\u001b[0m\u001b[0;34m\u001b[0m\u001b[0;34m\u001b[0m\u001b[0m\n\u001b[1;32m      4\u001b[0m \u001b[0;34m\u001b[0m\u001b[0m\n",
            "\u001b[0;32m/usr/local/lib/python3.6/dist-packages/matplotlib/pyplot.py\u001b[0m in \u001b[0;36mplot\u001b[0;34m(scalex, scaley, data, *args, **kwargs)\u001b[0m\n\u001b[1;32m   2794\u001b[0m     return gca().plot(\n\u001b[1;32m   2795\u001b[0m         *args, scalex=scalex, scaley=scaley, **({\"data\": data} if data\n\u001b[0;32m-> 2796\u001b[0;31m         is not None else {}), **kwargs)\n\u001b[0m\u001b[1;32m   2797\u001b[0m \u001b[0;34m\u001b[0m\u001b[0m\n\u001b[1;32m   2798\u001b[0m \u001b[0;34m\u001b[0m\u001b[0m\n",
            "\u001b[0;32m/usr/local/lib/python3.6/dist-packages/matplotlib/axes/_axes.py\u001b[0m in \u001b[0;36mplot\u001b[0;34m(self, scalex, scaley, data, *args, **kwargs)\u001b[0m\n\u001b[1;32m   1663\u001b[0m         \"\"\"\n\u001b[1;32m   1664\u001b[0m         \u001b[0mkwargs\u001b[0m \u001b[0;34m=\u001b[0m \u001b[0mcbook\u001b[0m\u001b[0;34m.\u001b[0m\u001b[0mnormalize_kwargs\u001b[0m\u001b[0;34m(\u001b[0m\u001b[0mkwargs\u001b[0m\u001b[0;34m,\u001b[0m \u001b[0mmlines\u001b[0m\u001b[0;34m.\u001b[0m\u001b[0mLine2D\u001b[0m\u001b[0;34m.\u001b[0m\u001b[0m_alias_map\u001b[0m\u001b[0;34m)\u001b[0m\u001b[0;34m\u001b[0m\u001b[0;34m\u001b[0m\u001b[0m\n\u001b[0;32m-> 1665\u001b[0;31m         \u001b[0mlines\u001b[0m \u001b[0;34m=\u001b[0m \u001b[0;34m[\u001b[0m\u001b[0;34m*\u001b[0m\u001b[0mself\u001b[0m\u001b[0;34m.\u001b[0m\u001b[0m_get_lines\u001b[0m\u001b[0;34m(\u001b[0m\u001b[0;34m*\u001b[0m\u001b[0margs\u001b[0m\u001b[0;34m,\u001b[0m \u001b[0mdata\u001b[0m\u001b[0;34m=\u001b[0m\u001b[0mdata\u001b[0m\u001b[0;34m,\u001b[0m \u001b[0;34m**\u001b[0m\u001b[0mkwargs\u001b[0m\u001b[0;34m)\u001b[0m\u001b[0;34m]\u001b[0m\u001b[0;34m\u001b[0m\u001b[0;34m\u001b[0m\u001b[0m\n\u001b[0m\u001b[1;32m   1666\u001b[0m         \u001b[0;32mfor\u001b[0m \u001b[0mline\u001b[0m \u001b[0;32min\u001b[0m \u001b[0mlines\u001b[0m\u001b[0;34m:\u001b[0m\u001b[0;34m\u001b[0m\u001b[0;34m\u001b[0m\u001b[0m\n\u001b[1;32m   1667\u001b[0m             \u001b[0mself\u001b[0m\u001b[0;34m.\u001b[0m\u001b[0madd_line\u001b[0m\u001b[0;34m(\u001b[0m\u001b[0mline\u001b[0m\u001b[0;34m)\u001b[0m\u001b[0;34m\u001b[0m\u001b[0;34m\u001b[0m\u001b[0m\n",
            "\u001b[0;32m/usr/local/lib/python3.6/dist-packages/matplotlib/axes/_base.py\u001b[0m in \u001b[0;36m__call__\u001b[0;34m(self, *args, **kwargs)\u001b[0m\n\u001b[1;32m    223\u001b[0m                 \u001b[0mthis\u001b[0m \u001b[0;34m+=\u001b[0m \u001b[0margs\u001b[0m\u001b[0;34m[\u001b[0m\u001b[0;36m0\u001b[0m\u001b[0;34m]\u001b[0m\u001b[0;34m,\u001b[0m\u001b[0;34m\u001b[0m\u001b[0;34m\u001b[0m\u001b[0m\n\u001b[1;32m    224\u001b[0m                 \u001b[0margs\u001b[0m \u001b[0;34m=\u001b[0m \u001b[0margs\u001b[0m\u001b[0;34m[\u001b[0m\u001b[0;36m1\u001b[0m\u001b[0;34m:\u001b[0m\u001b[0;34m]\u001b[0m\u001b[0;34m\u001b[0m\u001b[0;34m\u001b[0m\u001b[0m\n\u001b[0;32m--> 225\u001b[0;31m             \u001b[0;32myield\u001b[0m \u001b[0;32mfrom\u001b[0m \u001b[0mself\u001b[0m\u001b[0;34m.\u001b[0m\u001b[0m_plot_args\u001b[0m\u001b[0;34m(\u001b[0m\u001b[0mthis\u001b[0m\u001b[0;34m,\u001b[0m \u001b[0mkwargs\u001b[0m\u001b[0;34m)\u001b[0m\u001b[0;34m\u001b[0m\u001b[0;34m\u001b[0m\u001b[0m\n\u001b[0m\u001b[1;32m    226\u001b[0m \u001b[0;34m\u001b[0m\u001b[0m\n\u001b[1;32m    227\u001b[0m     \u001b[0;32mdef\u001b[0m \u001b[0mget_next_color\u001b[0m\u001b[0;34m(\u001b[0m\u001b[0mself\u001b[0m\u001b[0;34m)\u001b[0m\u001b[0;34m:\u001b[0m\u001b[0;34m\u001b[0m\u001b[0;34m\u001b[0m\u001b[0m\n",
            "\u001b[0;32m/usr/local/lib/python3.6/dist-packages/matplotlib/axes/_base.py\u001b[0m in \u001b[0;36m_plot_args\u001b[0;34m(self, tup, kwargs)\u001b[0m\n\u001b[1;32m    389\u001b[0m             \u001b[0mx\u001b[0m\u001b[0;34m,\u001b[0m \u001b[0my\u001b[0m \u001b[0;34m=\u001b[0m \u001b[0mindex_of\u001b[0m\u001b[0;34m(\u001b[0m\u001b[0mtup\u001b[0m\u001b[0;34m[\u001b[0m\u001b[0;34m-\u001b[0m\u001b[0;36m1\u001b[0m\u001b[0;34m]\u001b[0m\u001b[0;34m)\u001b[0m\u001b[0;34m\u001b[0m\u001b[0;34m\u001b[0m\u001b[0m\n\u001b[1;32m    390\u001b[0m \u001b[0;34m\u001b[0m\u001b[0m\n\u001b[0;32m--> 391\u001b[0;31m         \u001b[0mx\u001b[0m\u001b[0;34m,\u001b[0m \u001b[0my\u001b[0m \u001b[0;34m=\u001b[0m \u001b[0mself\u001b[0m\u001b[0;34m.\u001b[0m\u001b[0m_xy_from_xy\u001b[0m\u001b[0;34m(\u001b[0m\u001b[0mx\u001b[0m\u001b[0;34m,\u001b[0m \u001b[0my\u001b[0m\u001b[0;34m)\u001b[0m\u001b[0;34m\u001b[0m\u001b[0;34m\u001b[0m\u001b[0m\n\u001b[0m\u001b[1;32m    392\u001b[0m \u001b[0;34m\u001b[0m\u001b[0m\n\u001b[1;32m    393\u001b[0m         \u001b[0;32mif\u001b[0m \u001b[0mself\u001b[0m\u001b[0;34m.\u001b[0m\u001b[0mcommand\u001b[0m \u001b[0;34m==\u001b[0m \u001b[0;34m'plot'\u001b[0m\u001b[0;34m:\u001b[0m\u001b[0;34m\u001b[0m\u001b[0;34m\u001b[0m\u001b[0m\n",
            "\u001b[0;32m/usr/local/lib/python3.6/dist-packages/matplotlib/axes/_base.py\u001b[0m in \u001b[0;36m_xy_from_xy\u001b[0;34m(self, x, y)\u001b[0m\n\u001b[1;32m    268\u001b[0m         \u001b[0;32mif\u001b[0m \u001b[0mx\u001b[0m\u001b[0;34m.\u001b[0m\u001b[0mshape\u001b[0m\u001b[0;34m[\u001b[0m\u001b[0;36m0\u001b[0m\u001b[0;34m]\u001b[0m \u001b[0;34m!=\u001b[0m \u001b[0my\u001b[0m\u001b[0;34m.\u001b[0m\u001b[0mshape\u001b[0m\u001b[0;34m[\u001b[0m\u001b[0;36m0\u001b[0m\u001b[0;34m]\u001b[0m\u001b[0;34m:\u001b[0m\u001b[0;34m\u001b[0m\u001b[0;34m\u001b[0m\u001b[0m\n\u001b[1;32m    269\u001b[0m             raise ValueError(\"x and y must have same first dimension, but \"\n\u001b[0;32m--> 270\u001b[0;31m                              \"have shapes {} and {}\".format(x.shape, y.shape))\n\u001b[0m\u001b[1;32m    271\u001b[0m         \u001b[0;32mif\u001b[0m \u001b[0mx\u001b[0m\u001b[0;34m.\u001b[0m\u001b[0mndim\u001b[0m \u001b[0;34m>\u001b[0m \u001b[0;36m2\u001b[0m \u001b[0;32mor\u001b[0m \u001b[0my\u001b[0m\u001b[0;34m.\u001b[0m\u001b[0mndim\u001b[0m \u001b[0;34m>\u001b[0m \u001b[0;36m2\u001b[0m\u001b[0;34m:\u001b[0m\u001b[0;34m\u001b[0m\u001b[0;34m\u001b[0m\u001b[0m\n\u001b[1;32m    272\u001b[0m             raise ValueError(\"x and y can be no greater than 2-D, but have \"\n",
            "\u001b[0;31mValueError\u001b[0m: x and y must have same first dimension, but have shapes (16,) and (1,)"
          ]
        },
        {
          "output_type": "display_data",
          "data": {
            "image/png": "[encoded data removed]",
            "text/plain": [
              "<Figure size 432x288 with 1 Axes>"
            ]
          },
          "metadata": {
            "tags": []
          }
        }
      ]
    },
    {
      "cell_type": "code",
      "metadata": {
        "id": "8tBBgIOlKx4m",
        "colab_type": "code",
        "colab": {
          "base_uri": "https://localhost:8080/",
          "height": 35
        },
        "outputId": "bbc9245a-fbe6-4e4a-8064-c48560150d20"
      },
      "source": [
        "x_train.shape"
      ],
      "execution_count": null,
      "outputs": [
        {
          "output_type": "execute_result",
          "data": {
            "text/plain": [
              "(400000, 2, 128, 1)"
            ]
          },
          "metadata": {
            "tags": []
          },
          "execution_count": 111
        }
      ]
    },
    {
      "cell_type": "markdown",
      "metadata": {
        "id": "aXjyxW8Bz-wM",
        "colab_type": "text"
      },
      "source": [
        "**CNN-2**"
      ]
    },
    {
      "cell_type": "code",
      "metadata": {
        "id": "DF72ZCy8RHh3",
        "colab_type": "code",
        "colab": {}
      },
      "source": [
        "import os,random\n",
        "#os.environ[\"KERAS_BACKEND\"] = \"theano\"\n",
        "os.environ[\"KERAS_BACKEND\"] = \"tensorflow\"\n",
        "#os.environ[\"THEANO_FLAGS\"]  = \"device=gpu%d\"%(2)   #disabled because we do not have a hardware GPU\n",
        "import numpy as np\n",
        "#import theano as th\n",
        "#import theano.tensor as T\n",
        "from keras.utils import np_utils\n",
        "import keras.models as models\n",
        "from keras.layers import Input,merge\n",
        "from keras.layers.core import Reshape,Dense,Dropout,Activation,Flatten\n",
        "from keras.layers.noise import GaussianNoise\n",
        "from keras.layers.convolutional import Conv2D, MaxPooling2D, ZeroPadding2D\n",
        "from keras.models import Model\n",
        "from keras.regularizers import *\n",
        "from keras.optimizers import adam\n",
        "from keras.optimizers import adagrad\n",
        "import matplotlib\n",
        "matplotlib.use('Agg')\n",
        "import matplotlib.pyplot as plt\n",
        "import seaborn as sns\n",
        "import pickle, random, sys, keras\n",
        "from keras.utils import multi_gpu_model\n",
        "from keras import backend as K\n",
        "K.tensorflow_backend._get_available_gpus()\n",
        "import tensorflow as tf"
      ],
      "execution_count": null,
      "outputs": []
    },
    {
      "cell_type": "code",
      "metadata": {
        "id": "TDXX58qrzsCJ",
        "colab_type": "code",
        "colab": {}
      },
      "source": [
        "X=x_train.reshape(400000,2,128)"
      ],
      "execution_count": null,
      "outputs": []
    },
    {
      "cell_type": "code",
      "metadata": {
        "id": "9a6lnkw-03lU",
        "colab_type": "code",
        "colab": {
          "base_uri": "https://localhost:8080/",
          "height": 35
        },
        "outputId": "7a8404cb-f0b9-4e33-b668-c5794811aa71"
      },
      "source": [
        "y_train.shape"
      ],
      "execution_count": null,
      "outputs": [
        {
          "output_type": "execute_result",
          "data": {
            "text/plain": [
              "(400000, 4)"
            ]
          },
          "metadata": {
            "tags": []
          },
          "execution_count": 19
        }
      ]
    },
    {
      "cell_type": "code",
      "metadata": {
        "id": "Dv198xTV1vVC",
        "colab_type": "code",
        "colab": {}
      },
      "source": [
        "X_train=X"
      ],
      "execution_count": null,
      "outputs": []
    },
    {
      "cell_type": "code",
      "metadata": {
        "id": "jdKpN82j0nEw",
        "colab_type": "code",
        "colab": {
          "base_uri": "https://localhost:8080/",
          "height": 54
        },
        "outputId": "d47a93bb-ed50-4eb8-bcd7-c976c217effa"
      },
      "source": [
        "print('training started')\n",
        "in_shp = list(X_train.shape[1:])\n",
        "print(X_train.shape, in_shp)"
      ],
      "execution_count": null,
      "outputs": [
        {
          "output_type": "stream",
          "text": [
            "training started\n",
            "(400000, 2, 128) [2, 128]\n"
          ],
          "name": "stdout"
        }
      ]
    },
    {
      "cell_type": "code",
      "metadata": {
        "id": "A838VAKA12ef",
        "colab_type": "code",
        "colab": {
          "base_uri": "https://localhost:8080/",
          "height": 919
        },
        "outputId": "b791b76a-3ee5-4de4-8a3f-0b95ce5459f5"
      },
      "source": [
        "dr = 0.5 # dropout rate (%)\n",
        "model = models.Sequential()\n",
        "model.add(Reshape([1]+in_shp, input_shape=in_shp))\n",
        "model.add(ZeroPadding2D((0,2), data_format=\"channels_first\"))\n",
        "# error message occurs here!!!\n",
        "model.add(Conv2D(kernel_initializer=\"glorot_uniform\", name=\"conv1\", activation=\"relu\", data_format=\"channels_first\", padding=\"valid\", filters=256, kernel_size=(1, 3)))\n",
        "model.add(Dropout(dr))\n",
        "model.add(ZeroPadding2D((0,2), data_format=\"channels_first\"))\n",
        "model.add(Conv2D(kernel_initializer=\"glorot_uniform\", name=\"conv2\", activation=\"relu\", data_format=\"channels_first\", padding=\"valid\", filters=256, kernel_size=(2, 3)))\n",
        "model.add(Dropout(dr))\n",
        "model.add(ZeroPadding2D((0,2), data_format=\"channels_first\"))\n",
        "model.add(Conv2D(kernel_initializer=\"glorot_uniform\", name=\"conv3\", activation=\"relu\", data_format=\"channels_first\", padding=\"valid\", filters=80, kernel_size=(1, 3)))\n",
        "model.add(Dropout(dr))\n",
        "model.add(ZeroPadding2D((0,2), data_format=\"channels_first\"))\n",
        "model.add(Conv2D(kernel_initializer=\"glorot_uniform\", name=\"conv4\", activation=\"relu\", data_format=\"channels_first\", padding=\"valid\", filters=80, kernel_size=(1, 3)))\n",
        "model.add(Dropout(dr))\n",
        "#model.add(ZeroPadding2D((0, 2), data_format=\"channels_first\"))\n",
        "\n",
        "model.add(Flatten())\n",
        "# 128 (1) -> 11200; 64 (1/2) -> 6080; 32 (1/4) -> 3520; 16 (1/8) -> 2240; 8 (1/16) -> 1600; 4 (1/32) -> 1280\n",
        "#model.add(Reshape((1,11200)))\n",
        "#model.add(keras.layers.LSTM(50))\n",
        "model.add(Dense(256, activation='relu', init='he_normal', name=\"dense1\"))\n",
        "model.add(Dropout(dr))\n",
        "model.add(Dense( 4, init='he_normal', name=\"dense2\" ))\n",
        "model.add(Activation('softmax'))\n",
        "model.add(Reshape([4]))\n",
        "#opt=adam(lr=0.001, beta_1=0.9, beta_2=0.999, epsilon=1e-8)\n",
        "model.compile(loss='categorical_crossentropy', optimizer='adam')\n",
        "model.summary()"
      ],
      "execution_count": null,
      "outputs": [
        {
          "output_type": "stream",
          "text": [
            "Model: \"sequential_2\"\n",
            "_________________________________________________________________\n",
            "Layer (type)                 Output Shape              Param #   \n",
            "=================================================================\n",
            "reshape_4 (Reshape)          (None, 1, 2, 128)         0         \n",
            "_________________________________________________________________\n",
            "zero_padding2d_5 (ZeroPaddin (None, 1, 2, 132)         0         \n",
            "_________________________________________________________________\n",
            "conv1 (Conv2D)               (None, 256, 2, 130)       1024      \n",
            "_________________________________________________________________\n",
            "dropout_6 (Dropout)          (None, 256, 2, 130)       0         \n",
            "_________________________________________________________________\n",
            "zero_padding2d_6 (ZeroPaddin (None, 256, 2, 134)       0         \n",
            "_________________________________________________________________\n",
            "conv2 (Conv2D)               (None, 256, 1, 132)       393472    \n",
            "_________________________________________________________________\n",
            "dropout_7 (Dropout)          (None, 256, 1, 132)       0         \n",
            "_________________________________________________________________\n",
            "zero_padding2d_7 (ZeroPaddin (None, 256, 1, 136)       0         \n",
            "_________________________________________________________________\n",
            "conv3 (Conv2D)               (None, 80, 1, 134)        61520     \n",
            "_________________________________________________________________\n",
            "dropout_8 (Dropout)          (None, 80, 1, 134)        0         \n",
            "_________________________________________________________________\n",
            "zero_padding2d_8 (ZeroPaddin (None, 80, 1, 138)        0         \n",
            "_________________________________________________________________\n",
            "conv4 (Conv2D)               (None, 80, 1, 136)        19280     \n",
            "_________________________________________________________________\n",
            "dropout_9 (Dropout)          (None, 80, 1, 136)        0         \n",
            "_________________________________________________________________\n",
            "flatten_3 (Flatten)          (None, 10880)             0         \n",
            "_________________________________________________________________\n",
            "dense1 (Dense)               (None, 256)               2785536   \n",
            "_________________________________________________________________\n",
            "dropout_10 (Dropout)         (None, 256)               0         \n",
            "_________________________________________________________________\n",
            "dense2 (Dense)               (None, 4)                 1028      \n",
            "_________________________________________________________________\n",
            "activation_2 (Activation)    (None, 4)                 0         \n",
            "_________________________________________________________________\n",
            "reshape_5 (Reshape)          (None, 4)                 0         \n",
            "=================================================================\n",
            "Total params: 3,261,860\n",
            "Trainable params: 3,261,860\n",
            "Non-trainable params: 0\n",
            "_________________________________________________________________\n"
          ],
          "name": "stdout"
        },
        {
          "output_type": "stream",
          "text": [
            "/usr/local/lib/python3.6/dist-packages/ipykernel_launcher.py:23: UserWarning: Update your `Dense` call to the Keras 2 API: `Dense(256, activation=\"relu\", name=\"dense1\", kernel_initializer=\"he_normal\")`\n",
            "/usr/local/lib/python3.6/dist-packages/ipykernel_launcher.py:25: UserWarning: Update your `Dense` call to the Keras 2 API: `Dense(4, name=\"dense2\", kernel_initializer=\"he_normal\")`\n"
          ],
          "name": "stderr"
        }
      ]
    },
    {
      "cell_type": "code",
      "metadata": {
        "id": "OdoEsjm22RLH",
        "colab_type": "code",
        "colab": {
          "base_uri": "https://localhost:8080/",
          "height": 515
        },
        "outputId": "c4a930c3-6c3c-49f7-e5e4-7698c015c92a"
      },
      "source": [
        "early_stopping = EarlyStopping(monitor='val_loss', patience=10)\n",
        "adam = optimizers.Adam(lr=0.001, beta_1=0.9, beta_2=0.999, epsilon=1e-08)\n",
        "model.compile(loss='categorical_crossentropy',\n",
        "               optimizer=adam, \n",
        "               metrics=['categorical_accuracy'])\n",
        "model.fit(X,\n",
        "          y_train, \n",
        "          epochs=100, \n",
        "          batch_size=128,\n",
        "          validation_split=0.1,\n",
        "          shuffle=True,\n",
        "          callbacks=[early_stopping])"
      ],
      "execution_count": null,
      "outputs": [
        {
          "output_type": "stream",
          "text": [
            "Train on 360000 samples, validate on 40000 samples\n",
            "Epoch 1/100\n",
            "360000/360000 [==============================] - 194s 539us/step - loss: 0.5577 - categorical_accuracy: 0.6969 - val_loss: 0.4488 - val_categorical_accuracy: 0.7710\n",
            "Epoch 2/100\n",
            "360000/360000 [==============================] - 191s 531us/step - loss: 0.4348 - categorical_accuracy: 0.7758 - val_loss: 0.4253 - val_categorical_accuracy: 0.7872\n",
            "Epoch 3/100\n",
            "360000/360000 [==============================] - 191s 530us/step - loss: 0.4276 - categorical_accuracy: 0.7786 - val_loss: 0.4294 - val_categorical_accuracy: 0.7756\n",
            "Epoch 4/100\n",
            "360000/360000 [==============================] - 191s 529us/step - loss: 0.4259 - categorical_accuracy: 0.7794 - val_loss: 0.4412 - val_categorical_accuracy: 0.7728\n",
            "Epoch 5/100\n",
            "360000/360000 [==============================] - 190s 529us/step - loss: 0.4242 - categorical_accuracy: 0.7802 - val_loss: 0.4310 - val_categorical_accuracy: 0.7696\n",
            "Epoch 6/100\n",
            "360000/360000 [==============================] - 190s 528us/step - loss: 0.4237 - categorical_accuracy: 0.7807 - val_loss: 0.4345 - val_categorical_accuracy: 0.7648\n",
            "Epoch 7/100\n",
            "360000/360000 [==============================] - 190s 528us/step - loss: 0.4232 - categorical_accuracy: 0.7809 - val_loss: 0.4878 - val_categorical_accuracy: 0.7515\n",
            "Epoch 8/100\n",
            "360000/360000 [==============================] - 192s 532us/step - loss: 0.4224 - categorical_accuracy: 0.7805 - val_loss: 0.4737 - val_categorical_accuracy: 0.7403\n",
            "Epoch 9/100\n",
            "360000/360000 [==============================] - 191s 530us/step - loss: 0.4225 - categorical_accuracy: 0.7803 - val_loss: 0.4337 - val_categorical_accuracy: 0.7751\n",
            "Epoch 10/100\n",
            "360000/360000 [==============================] - 190s 528us/step - loss: 0.4226 - categorical_accuracy: 0.7807 - val_loss: 0.4609 - val_categorical_accuracy: 0.7644\n",
            "Epoch 11/100\n",
            "360000/360000 [==============================] - 190s 527us/step - loss: 0.4230 - categorical_accuracy: 0.7812 - val_loss: 0.5118 - val_categorical_accuracy: 0.7315\n",
            "Epoch 12/100\n",
            "360000/360000 [==============================] - 190s 528us/step - loss: 0.4230 - categorical_accuracy: 0.7799 - val_loss: 0.4457 - val_categorical_accuracy: 0.7480\n"
          ],
          "name": "stdout"
        },
        {
          "output_type": "execute_result",
          "data": {
            "text/plain": [
              "<keras.callbacks.History at 0x7fd5a1a36e10>"
            ]
          },
          "metadata": {
            "tags": []
          },
          "execution_count": 118
        }
      ]
    },
    {
      "cell_type": "code",
      "metadata": {
        "id": "jPwxoxXg1ULa",
        "colab_type": "code",
        "colab": {}
      },
      "source": [
        "model.save_weights('/gdrive/My Drive/cnn4_weights_awgn.h5')"
      ],
      "execution_count": null,
      "outputs": []
    },
    {
      "cell_type": "code",
      "metadata": {
        "id": "DIyNQ9ghNYjc",
        "colab_type": "code",
        "colab": {}
      },
      "source": [
        "model.load_weights('/gdrive/My Drive/cnn4_weights_rayleigh.h5')"
      ],
      "execution_count": null,
      "outputs": []
    },
    {
      "cell_type": "code",
      "metadata": {
        "id": "HgziPJPJSe-J",
        "colab_type": "code",
        "colab": {
          "base_uri": "https://localhost:8080/",
          "height": 35
        },
        "outputId": "e09a9257-4009-4799-b1d4-81906d4bae30"
      },
      "source": [
        "score = model.evaluate(X_test.reshape(40000,2,128), Y_test,  verbose=0)\n",
        "print(score)"
      ],
      "execution_count": null,
      "outputs": [
        {
          "output_type": "stream",
          "text": [
            "0.6892583538532258\n"
          ],
          "name": "stdout"
        }
      ]
    },
    {
      "cell_type": "code",
      "metadata": {
        "id": "OZ4y4HLfrvOV",
        "colab_type": "code",
        "colab": {
          "base_uri": "https://localhost:8080/",
          "height": 605
        },
        "outputId": "bf97505d-db48-4738-9c6c-5d6d1f3b02f4"
      },
      "source": [
        "acc_cnn4_awgn = {}\n",
        "\n",
        "for snr in snrs:\n",
        "    # extract classes @ SNR\n",
        "    #test_SNRs = list(map(lambda x: lbl[x][1], test_idx))\n",
        "    test_X_i = X_test[np.where(np.array(Y_test_snrs)==snr)]\n",
        "    test_Y_i = Y_test[np.where(np.array(Y_test_snrs)==snr)]  \n",
        "    test_Y_i_hat = model.predict(test_X_i.reshape(test_X_i.shape[0],2,128))\n",
        "    conf = np.zeros([4,4])\n",
        "    confnorm = np.zeros([4,4])\n",
        "    for i in range(0,test_X_i.shape[0]):\n",
        "        j = list(test_Y_i[i,:]).index(1)\n",
        "        k = int(np.argmax(test_Y_i_hat[i,:]))\n",
        "        conf[j,k] = conf[j,k] + 1\n",
        "    for i in range(0,4):\n",
        "        confnorm[i,:] = conf[i,:] / np.sum(conf[i,:])\n",
        "    #plt.figure()\n",
        "    #plot_confusion_matrix(confnorm, labels=classes, title=\"ConvNet Confusion Matrix (SNR=%d)\"%(snr))\n",
        "    \n",
        "    cor = np.sum(np.diag(conf))\n",
        "    ncor = np.sum(conf) - cor\n",
        "    print(\"Overall Accuracy: \", cor / (cor+ncor))\n",
        "    print(\"snr=\",snr)\n",
        "    acc_cnn4_awgn[snr] = 1.0*cor/(cor+ncor)"
      ],
      "execution_count": null,
      "outputs": [
        {
          "output_type": "stream",
          "text": [
            "Overall Accuracy:  0.6391963919639196\n",
            "snr= -10\n",
            "Overall Accuracy:  0.6368829049367605\n",
            "snr= -8\n",
            "Overall Accuracy:  0.6379038613081166\n",
            "snr= -6\n",
            "Overall Accuracy:  0.6512013256006628\n",
            "snr= -4\n",
            "Overall Accuracy:  0.6340782122905028\n",
            "snr= -2\n",
            "Overall Accuracy:  0.6456538762725137\n",
            "snr= 0\n",
            "Overall Accuracy:  0.6432019308125503\n",
            "snr= 2\n",
            "Overall Accuracy:  0.6358099878197321\n",
            "snr= 4\n",
            "Overall Accuracy:  0.6308671439936356\n",
            "snr= 6\n",
            "Overall Accuracy:  0.6373669688608593\n",
            "snr= 8\n",
            "Overall Accuracy:  0.650058388478007\n",
            "snr= 10\n",
            "Overall Accuracy:  0.6360465116279069\n",
            "snr= 12\n",
            "Overall Accuracy:  0.6518811881188119\n",
            "snr= 14\n",
            "Overall Accuracy:  0.6426868044515104\n",
            "snr= 16\n",
            "Overall Accuracy:  0.6476578411405295\n",
            "snr= 18\n",
            "Overall Accuracy:  0.6587851610273135\n",
            "snr= 20\n"
          ],
          "name": "stdout"
        }
      ]
    },
    {
      "cell_type": "code",
      "metadata": {
        "id": "KGyMX4iBr4c8",
        "colab_type": "code",
        "colab": {
          "base_uri": "https://localhost:8080/",
          "height": 279
        },
        "outputId": "891838b6-114b-40eb-9cec-6aa159232e92"
      },
      "source": [
        "plt.plot(snrs, list(map(lambda x: acc_cnn4_awgn[x], snrs)),'k-.',label='4 layer CNN')\n",
        "plt.plot(snrs, acc_array_cumulants_awgn,'k-',label='Cumulants')\n",
        "plt.xlabel(\"Signal to Noise Ratio\")\n",
        "plt.ylabel(\"Accuracy\")\n",
        "plt.legend()\n",
        "plt.savefig('/gdrive/My Drive/cnn4_vs_cum_awgn.png',figsize=(15,7.5), dpi= 100)\t#save image"
      ],
      "execution_count": null,
      "outputs": [
        {
          "output_type": "display_data",
          "data": {
            "image/png": "[encoded data removed]",
            "text/plain": [
              "<Figure size 432x288 with 1 Axes>"
            ]
          },
          "metadata": {
            "tags": []
          }
        }
      ]
    },
    {
      "cell_type": "code",
      "metadata": {
        "id": "yTC1aJFFhFZn",
        "colab_type": "code",
        "colab": {
          "base_uri": "https://localhost:8080/",
          "height": 311
        },
        "outputId": "72e55dd5-9a10-4275-d694-3ad7132d13b9"
      },
      "source": [
        "list(map(lambda x: acc_cnn4_awgn[x], snrs))"
      ],
      "execution_count": null,
      "outputs": [
        {
          "output_type": "execute_result",
          "data": {
            "text/plain": [
              "[0.33989339893398934,\n",
              " 0.379436964504284,\n",
              " 0.4105594956658786,\n",
              " 0.4660314830157415,\n",
              " 0.5287310454908221,\n",
              " 0.5411119812059515,\n",
              " 0.6403861625100563,\n",
              " 0.8205440519691434,\n",
              " 0.9419252187748608,\n",
              " 0.9862041781631848,\n",
              " 0.9968859478396264,\n",
              " 0.9988372093023256,\n",
              " 1.0,\n",
              " 1.0,\n",
              " 1.0,\n",
              " 1.0]"
            ]
          },
          "metadata": {
            "tags": []
          },
          "execution_count": 146
        }
      ]
    },
    {
      "cell_type": "code",
      "metadata": {
        "id": "F04ttXSusTgd",
        "colab_type": "code",
        "colab": {
          "base_uri": "https://localhost:8080/",
          "height": 35
        },
        "outputId": "79308498-a6b0-4e7b-923d-8ce484fd5e02"
      },
      "source": [
        "np.mean(list(map(lambda x: acc_cnn4_awgn[x], snrs)))"
      ],
      "execution_count": null,
      "outputs": [
        {
          "output_type": "execute_result",
          "data": {
            "text/plain": [
              "0.7531591960859916"
            ]
          },
          "metadata": {
            "tags": []
          },
          "execution_count": 125
        }
      ]
    },
    {
      "cell_type": "markdown",
      "metadata": {
        "id": "nVagdvJ-SNuP",
        "colab_type": "text"
      },
      "source": [
        "**CLDNN**"
      ]
    },
    {
      "cell_type": "code",
      "metadata": {
        "id": "I7x_dj1oST__",
        "colab_type": "code",
        "colab": {
          "base_uri": "https://localhost:8080/",
          "height": 1000
        },
        "outputId": "e3a8e2e2-8085-48ff-a178-bc304a35b90d"
      },
      "source": [
        "dr = 0.5 # dropout rate (%)\n",
        "model = models.Sequential()\n",
        "model.add(Reshape([1]+in_shp, input_shape=in_shp))\n",
        "model.add(ZeroPadding2D((0,2), data_format=\"channels_first\"))\n",
        "# error message occurs here!!!\n",
        "model.add(Conv2D(kernel_initializer=\"glorot_uniform\", name=\"conv1\", activation=\"relu\", data_format=\"channels_first\", padding=\"valid\", filters=256, kernel_size=(1, 3)))\n",
        "model.add(Dropout(dr))\n",
        "model.add(ZeroPadding2D((0,2), data_format=\"channels_first\"))\n",
        "model.add(Conv2D(kernel_initializer=\"glorot_uniform\", name=\"conv2\", activation=\"relu\", data_format=\"channels_first\", padding=\"valid\", filters=256, kernel_size=(2, 3)))\n",
        "model.add(Dropout(dr))\n",
        "model.add(ZeroPadding2D((0,2), data_format=\"channels_first\"))\n",
        "model.add(Conv2D(kernel_initializer=\"glorot_uniform\", name=\"conv3\", activation=\"relu\", data_format=\"channels_first\", padding=\"valid\", filters=80, kernel_size=(1, 3)))\n",
        "model.add(Dropout(dr))\n",
        "model.add(ZeroPadding2D((0,2), data_format=\"channels_first\"))\n",
        "model.add(Conv2D(kernel_initializer=\"glorot_uniform\", name=\"conv4\", activation=\"relu\", data_format=\"channels_first\", padding=\"valid\", filters=80, kernel_size=(1, 3)))\n",
        "model.add(Dropout(dr))\n",
        "#model.add(ZeroPadding2D((0, 2), data_format=\"channels_first\"))\n",
        "\n",
        "model.add(Flatten())\n",
        "# 128 (1) -> 11200; 64 (1/2) -> 6080; 32 (1/4) -> 3520; 16 (1/8) -> 2240; 8 (1/16) -> 1600; 4 (1/32) -> 1280\n",
        "model.add(Reshape((1,10880)))\n",
        "model.add(keras.layers.LSTM(50))\n",
        "model.add(Dense(256, activation='relu', init='he_normal', name=\"dense1\"))\n",
        "model.add(Dropout(dr))\n",
        "model.add(Dense( 4, init='he_normal', name=\"dense2\" ))\n",
        "model.add(Activation('softmax'))\n",
        "model.add(Reshape([4]))\n",
        "#opt=adam(lr=0.001, beta_1=0.9, beta_2=0.999, epsilon=1e-8)\n",
        "model.compile(loss='categorical_crossentropy', optimizer='adam')\n",
        "model.summary()\n",
        "#The shape of the input to \"Flatten\" is not fully defined (got (0, 6, 80). \n",
        "#Make sure to pass a complete \"input_shape\" or \"batch_input_shape\" argument to the first layer in your model.\n"
      ],
      "execution_count": null,
      "outputs": [
        {
          "output_type": "stream",
          "text": [
            "WARNING:tensorflow:From /usr/local/lib/python3.6/dist-packages/keras/backend/tensorflow_backend.py:3733: calling dropout (from tensorflow.python.ops.nn_ops) with keep_prob is deprecated and will be removed in a future version.\n",
            "Instructions for updating:\n",
            "Please use `rate` instead of `keep_prob`. Rate should be set to `rate = 1 - keep_prob`.\n",
            "WARNING:tensorflow:From /usr/local/lib/python3.6/dist-packages/keras/backend/tensorflow_backend.py:4479: The name tf.truncated_normal is deprecated. Please use tf.random.truncated_normal instead.\n",
            "\n",
            "Model: \"sequential_1\"\n",
            "_________________________________________________________________\n",
            "Layer (type)                 Output Shape              Param #   \n",
            "=================================================================\n",
            "reshape_1 (Reshape)          (None, 1, 2, 128)         0         \n",
            "_________________________________________________________________\n",
            "zero_padding2d_1 (ZeroPaddin (None, 1, 2, 132)         0         \n",
            "_________________________________________________________________\n",
            "conv1 (Conv2D)               (None, 256, 2, 130)       1024      \n",
            "_________________________________________________________________\n",
            "dropout_1 (Dropout)          (None, 256, 2, 130)       0         \n",
            "_________________________________________________________________\n",
            "zero_padding2d_2 (ZeroPaddin (None, 256, 2, 134)       0         \n",
            "_________________________________________________________________\n",
            "conv2 (Conv2D)               (None, 256, 1, 132)       393472    \n",
            "_________________________________________________________________\n",
            "dropout_2 (Dropout)          (None, 256, 1, 132)       0         \n",
            "_________________________________________________________________\n",
            "zero_padding2d_3 (ZeroPaddin (None, 256, 1, 136)       0         \n",
            "_________________________________________________________________\n",
            "conv3 (Conv2D)               (None, 80, 1, 134)        61520     \n",
            "_________________________________________________________________\n",
            "dropout_3 (Dropout)          (None, 80, 1, 134)        0         \n",
            "_________________________________________________________________\n",
            "zero_padding2d_4 (ZeroPaddin (None, 80, 1, 138)        0         \n",
            "_________________________________________________________________\n",
            "conv4 (Conv2D)               (None, 80, 1, 136)        19280     \n",
            "_________________________________________________________________\n",
            "dropout_4 (Dropout)          (None, 80, 1, 136)        0         \n",
            "_________________________________________________________________\n",
            "flatten_2 (Flatten)          (None, 10880)             0         \n",
            "_________________________________________________________________\n",
            "reshape_2 (Reshape)          (None, 1, 10880)          0         \n",
            "_________________________________________________________________\n",
            "lstm_1 (LSTM)                (None, 50)                2186200   \n",
            "_________________________________________________________________\n",
            "dense1 (Dense)               (None, 256)               13056     \n",
            "_________________________________________________________________\n",
            "dropout_5 (Dropout)          (None, 256)               0         \n",
            "_________________________________________________________________\n",
            "dense2 (Dense)               (None, 4)                 1028      \n",
            "_________________________________________________________________\n",
            "activation_1 (Activation)    (None, 4)                 0         \n",
            "_________________________________________________________________\n",
            "reshape_3 (Reshape)          (None, 4)                 0         \n",
            "=================================================================\n",
            "Total params: 2,675,580\n",
            "Trainable params: 2,675,580\n",
            "Non-trainable params: 0\n",
            "_________________________________________________________________\n"
          ],
          "name": "stdout"
        },
        {
          "output_type": "stream",
          "text": [
            "/usr/local/lib/python3.6/dist-packages/ipykernel_launcher.py:23: UserWarning: Update your `Dense` call to the Keras 2 API: `Dense(256, activation=\"relu\", name=\"dense1\", kernel_initializer=\"he_normal\")`\n",
            "/usr/local/lib/python3.6/dist-packages/ipykernel_launcher.py:25: UserWarning: Update your `Dense` call to the Keras 2 API: `Dense(4, name=\"dense2\", kernel_initializer=\"he_normal\")`\n"
          ],
          "name": "stderr"
        }
      ]
    },
    {
      "cell_type": "code",
      "metadata": {
        "id": "NtcnOu4QUz-1",
        "colab_type": "code",
        "colab": {
          "base_uri": "https://localhost:8080/",
          "height": 919
        },
        "outputId": "3fe34855-e360-462a-e872-e9a6d03c07fa"
      },
      "source": [
        "early_stopping = EarlyStopping(monitor='val_loss', patience=10)\n",
        "adam = optimizers.Adam(lr=0.001, beta_1=0.9, beta_2=0.999, epsilon=1e-08)\n",
        "model.compile(loss='categorical_crossentropy',\n",
        "               optimizer=adam, \n",
        "               metrics=['categorical_accuracy'])\n",
        "model.fit(X,\n",
        "          y_train, \n",
        "          epochs=100, \n",
        "          batch_size=128,\n",
        "          validation_split=0.1,\n",
        "          shuffle=True,callbacks=[early_stopping])"
      ],
      "execution_count": null,
      "outputs": [
        {
          "output_type": "stream",
          "text": [
            "Train on 360000 samples, validate on 40000 samples\n",
            "Epoch 1/100\n",
            "360000/360000 [==============================] - 209s 581us/step - loss: 0.9680 - categorical_accuracy: 0.4790 - val_loss: 0.7519 - val_categorical_accuracy: 0.6285\n",
            "Epoch 2/100\n",
            "360000/360000 [==============================] - 206s 571us/step - loss: 0.7301 - categorical_accuracy: 0.6287 - val_loss: 0.7267 - val_categorical_accuracy: 0.6321\n",
            "Epoch 3/100\n",
            "360000/360000 [==============================] - 206s 571us/step - loss: 0.7177 - categorical_accuracy: 0.6360 - val_loss: 0.7183 - val_categorical_accuracy: 0.6298\n",
            "Epoch 4/100\n",
            "360000/360000 [==============================] - 205s 570us/step - loss: 0.7119 - categorical_accuracy: 0.6382 - val_loss: 0.7154 - val_categorical_accuracy: 0.6386\n",
            "Epoch 5/100\n",
            "360000/360000 [==============================] - 206s 571us/step - loss: 0.7100 - categorical_accuracy: 0.6386 - val_loss: 0.6996 - val_categorical_accuracy: 0.6465\n",
            "Epoch 6/100\n",
            "360000/360000 [==============================] - 205s 571us/step - loss: 0.7080 - categorical_accuracy: 0.6402 - val_loss: 0.7301 - val_categorical_accuracy: 0.6319\n",
            "Epoch 7/100\n",
            "360000/360000 [==============================] - 206s 571us/step - loss: 0.7084 - categorical_accuracy: 0.6397 - val_loss: 0.7628 - val_categorical_accuracy: 0.6288\n",
            "Epoch 8/100\n",
            "360000/360000 [==============================] - 207s 576us/step - loss: 0.7118 - categorical_accuracy: 0.6379 - val_loss: 0.7101 - val_categorical_accuracy: 0.6357\n",
            "Epoch 9/100\n",
            "360000/360000 [==============================] - 208s 578us/step - loss: 0.7140 - categorical_accuracy: 0.6369 - val_loss: 0.7283 - val_categorical_accuracy: 0.6303\n",
            "Epoch 10/100\n",
            "360000/360000 [==============================] - 206s 572us/step - loss: 0.7205 - categorical_accuracy: 0.6324 - val_loss: 0.7082 - val_categorical_accuracy: 0.6407\n",
            "Epoch 11/100\n",
            "360000/360000 [==============================] - 206s 571us/step - loss: 0.7223 - categorical_accuracy: 0.6319 - val_loss: 0.7238 - val_categorical_accuracy: 0.6396\n",
            "Epoch 12/100\n",
            "360000/360000 [==============================] - 206s 573us/step - loss: 0.7299 - categorical_accuracy: 0.6289 - val_loss: 0.7330 - val_categorical_accuracy: 0.6331\n",
            "Epoch 13/100\n",
            "360000/360000 [==============================] - 206s 572us/step - loss: 0.7334 - categorical_accuracy: 0.6257 - val_loss: 0.6981 - val_categorical_accuracy: 0.6463\n",
            "Epoch 14/100\n",
            "360000/360000 [==============================] - 205s 570us/step - loss: 0.7414 - categorical_accuracy: 0.6225 - val_loss: 0.7105 - val_categorical_accuracy: 0.6367\n",
            "Epoch 15/100\n",
            "360000/360000 [==============================] - 205s 570us/step - loss: 0.7655 - categorical_accuracy: 0.6075 - val_loss: 0.7228 - val_categorical_accuracy: 0.6410\n",
            "Epoch 16/100\n",
            "360000/360000 [==============================] - 205s 569us/step - loss: 0.7658 - categorical_accuracy: 0.6092 - val_loss: 0.7444 - val_categorical_accuracy: 0.6270\n",
            "Epoch 17/100\n",
            "360000/360000 [==============================] - 205s 571us/step - loss: 0.7650 - categorical_accuracy: 0.6120 - val_loss: 0.7363 - val_categorical_accuracy: 0.6259\n",
            "Epoch 18/100\n",
            "360000/360000 [==============================] - 207s 575us/step - loss: 0.7697 - categorical_accuracy: 0.6094 - val_loss: 0.7739 - val_categorical_accuracy: 0.6242\n",
            "Epoch 19/100\n",
            "360000/360000 [==============================] - 206s 573us/step - loss: 0.7780 - categorical_accuracy: 0.6060 - val_loss: 0.7480 - val_categorical_accuracy: 0.6253\n",
            "Epoch 20/100\n",
            "360000/360000 [==============================] - 207s 574us/step - loss: 0.7980 - categorical_accuracy: 0.5963 - val_loss: 0.7448 - val_categorical_accuracy: 0.6332\n",
            "Epoch 21/100\n",
            "360000/360000 [==============================] - 206s 572us/step - loss: 0.8013 - categorical_accuracy: 0.5973 - val_loss: 0.7863 - val_categorical_accuracy: 0.5975\n",
            "Epoch 22/100\n",
            "360000/360000 [==============================] - 206s 572us/step - loss: 0.8095 - categorical_accuracy: 0.5908 - val_loss: 0.7771 - val_categorical_accuracy: 0.6061\n",
            "Epoch 23/100\n",
            "360000/360000 [==============================] - 205s 569us/step - loss: 0.8556 - categorical_accuracy: 0.5663 - val_loss: 0.7932 - val_categorical_accuracy: 0.6051\n"
          ],
          "name": "stdout"
        },
        {
          "output_type": "execute_result",
          "data": {
            "text/plain": [
              "<keras.callbacks.History at 0x7fa23b8c3da0>"
            ]
          },
          "metadata": {
            "tags": []
          },
          "execution_count": 17
        }
      ]
    },
    {
      "cell_type": "code",
      "metadata": {
        "id": "Rkw6ZRR3KzOJ",
        "colab_type": "code",
        "colab": {}
      },
      "source": [
        "model.save_weights('/gdrive/My Drive/model_weights_cldnn_rayleigh.h5')"
      ],
      "execution_count": null,
      "outputs": []
    },
    {
      "cell_type": "code",
      "metadata": {
        "id": "xXnTg4RuHOVO",
        "colab_type": "code",
        "colab": {}
      },
      "source": [
        "model.load_weights('/gdrive/My Drive/model_weights_cldnn_rayleigh.h5')"
      ],
      "execution_count": null,
      "outputs": []
    },
    {
      "cell_type": "code",
      "metadata": {
        "id": "RrygSBj9SRyA",
        "colab_type": "code",
        "colab": {
          "base_uri": "https://localhost:8080/",
          "height": 35
        },
        "outputId": "48b504c3-363f-441d-e3c8-207cb795f798"
      },
      "source": [
        "score = model.evaluate(X_test.reshape(40000,2,128), Y_test,  verbose=0)\n",
        "print(score)"
      ],
      "execution_count": null,
      "outputs": [
        {
          "output_type": "stream",
          "text": [
            "0.7864005355358124\n"
          ],
          "name": "stdout"
        }
      ]
    },
    {
      "cell_type": "code",
      "metadata": {
        "id": "XfLJRyALnUzX",
        "colab_type": "code",
        "colab": {
          "base_uri": "https://localhost:8080/",
          "height": 605
        },
        "outputId": "63710c51-b82d-4b5c-c302-048a9f0acdba"
      },
      "source": [
        "acc_cldnn_rayleigh = {}\n",
        "\n",
        "for snr in snrs:\n",
        "    # extract classes @ SNR\n",
        "    #test_SNRs = list(map(lambda x: lbl[x][1], test_idx))\n",
        "    test_X_i = X_test[np.where(np.array(Y_test_snrs)==snr)]\n",
        "    test_Y_i = Y_test[np.where(np.array(Y_test_snrs)==snr)]  \n",
        "    test_Y_i_hat = model.predict(test_X_i.reshape(test_X_i.shape[0],2,128))\n",
        "    conf = np.zeros([4,4])\n",
        "    confnorm = np.zeros([4,4])\n",
        "    for i in range(0,test_X_i.shape[0]):\n",
        "        j = list(test_Y_i[i,:]).index(1)\n",
        "        k = int(np.argmax(test_Y_i_hat[i,:]))\n",
        "        conf[j,k] = conf[j,k] + 1\n",
        "    for i in range(0,4):\n",
        "        confnorm[i,:] = conf[i,:] / np.sum(conf[i,:])\n",
        "    #plt.figure()\n",
        "    #plot_confusion_matrix(confnorm, labels=classes, title=\"ConvNet Confusion Matrix (SNR=%d)\"%(snr))\n",
        "    \n",
        "    cor = np.sum(np.diag(conf))\n",
        "    ncor = np.sum(conf) - cor\n",
        "    print(\"Overall Accuracy: \", cor / (cor+ncor))\n",
        "    print(\"snr=\",snr)\n",
        "    acc_cldnn_rayleigh[snr] = 1.0*cor/(cor+ncor)"
      ],
      "execution_count": null,
      "outputs": [
        {
          "output_type": "stream",
          "text": [
            "Overall Accuracy:  0.6109061090610907\n",
            "snr= -10\n",
            "Overall Accuracy:  0.6017951856385149\n",
            "snr= -8\n",
            "Overall Accuracy:  0.594956658786446\n",
            "snr= -6\n",
            "Overall Accuracy:  0.6151615575807788\n",
            "snr= -4\n",
            "Overall Accuracy:  0.6001596169193935\n",
            "snr= -2\n",
            "Overall Accuracy:  0.6119812059514487\n",
            "snr= 0\n",
            "Overall Accuracy:  0.6106194690265486\n",
            "snr= 2\n",
            "Overall Accuracy:  0.5988631749898498\n",
            "snr= 4\n",
            "Overall Accuracy:  0.5966587112171837\n",
            "snr= 6\n",
            "Overall Accuracy:  0.6192353173039022\n",
            "snr= 8\n",
            "Overall Accuracy:  0.6072401712728688\n",
            "snr= 10\n",
            "Overall Accuracy:  0.608139534883721\n",
            "snr= 12\n",
            "Overall Accuracy:  0.6182178217821782\n",
            "snr= 14\n",
            "Overall Accuracy:  0.6228139904610492\n",
            "snr= 16\n",
            "Overall Accuracy:  0.604480651731161\n",
            "snr= 18\n",
            "Overall Accuracy:  0.6110884631064003\n",
            "snr= 20\n"
          ],
          "name": "stdout"
        }
      ]
    },
    {
      "cell_type": "code",
      "metadata": {
        "id": "IpCTWrrm_vSP",
        "colab_type": "code",
        "colab": {
          "base_uri": "https://localhost:8080/",
          "height": 279
        },
        "outputId": "563f64aa-2ee8-4482-a9a8-3e8ac3d646ab"
      },
      "source": [
        "plt.plot(snrs, list(map(lambda x: acc_cnn4_awgn[x], snrs)),'k-.',label='CLDNN')\n",
        "plt.plot(snrs, acc_array_cumulants_awgn,'k-',label='Cumulants')\n",
        "plt.xlabel(\"Signal to Noise Ratio\")\n",
        "plt.ylabel(\"Accuracy\")\n",
        "plt.legend()\n",
        "plt.savefig('/content/drive/My Drive/cldnn_vs_cum_awgn.png',figsize=(15,7.5), dpi= 100)\t#save image"
      ],
      "execution_count": null,
      "outputs": [
        {
          "output_type": "display_data",
          "data": {
            "image/png": "[encoded data removed]",
            "text/plain": [
              "<Figure size 432x288 with 1 Axes>"
            ]
          },
          "metadata": {
            "tags": []
          }
        }
      ]
    },
    {
      "cell_type": "code",
      "metadata": {
        "id": "QIGRjWbEem9Z",
        "colab_type": "code",
        "colab": {
          "base_uri": "https://localhost:8080/",
          "height": 311
        },
        "outputId": "dd6ccc76-55d1-4f7b-da3a-65c634dd38fd"
      },
      "source": [
        "list(map(lambda x: acc_cnn4_awgn[x], snrs))"
      ],
      "execution_count": null,
      "outputs": [
        {
          "output_type": "execute_result",
          "data": {
            "text/plain": [
              "[0.30545305453054533,\n",
              " 0.3349653202774378,\n",
              " 0.40031520882584715,\n",
              " 0.45608947804473904,\n",
              " 0.48643256185155626,\n",
              " 0.4851213782302271,\n",
              " 0.6379726468222043,\n",
              " 0.611043442955745,\n",
              " 0.624502784407319,\n",
              " 0.795821836815136,\n",
              " 0.9606850914752822,\n",
              " 0.9794573643410853,\n",
              " 0.9928712871287129,\n",
              " 0.9928457869634341,\n",
              " 0.9922606924643584,\n",
              " 0.9824704443538524]"
            ]
          },
          "metadata": {
            "tags": []
          },
          "execution_count": 140
        }
      ]
    },
    {
      "cell_type": "code",
      "metadata": {
        "id": "0LLUYl3Ke4Ke",
        "colab_type": "code",
        "colab": {
          "base_uri": "https://localhost:8080/",
          "height": 311
        },
        "outputId": "afb60c15-ffd8-46cb-efb6-a53b9497bdef"
      },
      "source": [
        "list(map(lambda x: acc_cldnn_rayleigh[x], snrs))"
      ],
      "execution_count": null,
      "outputs": [
        {
          "output_type": "execute_result",
          "data": {
            "text/plain": [
              "[0.6109061090610907,\n",
              " 0.6017951856385149,\n",
              " 0.594956658786446,\n",
              " 0.6151615575807788,\n",
              " 0.6001596169193935,\n",
              " 0.6119812059514487,\n",
              " 0.6106194690265486,\n",
              " 0.5988631749898498,\n",
              " 0.5966587112171837,\n",
              " 0.6192353173039022,\n",
              " 0.6072401712728688,\n",
              " 0.608139534883721,\n",
              " 0.6182178217821782,\n",
              " 0.6228139904610492,\n",
              " 0.604480651731161,\n",
              " 0.6110884631064003]"
            ]
          },
          "metadata": {
            "tags": []
          },
          "execution_count": 26
        }
      ]
    },
    {
      "cell_type": "code",
      "metadata": {
        "id": "6zpzMgzOHhOb",
        "colab_type": "code",
        "colab": {}
      },
      "source": [
        ""
      ],
      "execution_count": null,
      "outputs": []
    }
  ]
}