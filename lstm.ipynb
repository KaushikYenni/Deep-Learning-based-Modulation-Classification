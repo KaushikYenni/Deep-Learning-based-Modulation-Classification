{
  "nbformat": 4,
  "nbformat_minor": 0,
  "metadata": {
    "colab": {
      "name": "rnn_lite.ipynb",
      "provenance": [],
      "collapsed_sections": []
    },
    "kernelspec": {
      "name": "python3",
      "display_name": "Python 3"
    },
    "accelerator": "GPU"
  },
  "cells": [
    {
      "cell_type": "code",
      "metadata": {
        "id": "M8EB4U1MqbdW",
        "colab_type": "code",
        "colab": {
          "base_uri": "https://localhost:8080/",
          "height": 147
        },
        "outputId": "14da3ebb-385e-4264-ff75-4ac82c10881f"
      },
      "source": [
        "from google.colab import drive\n",
        "drive.mount('/gdrive')\n",
        "%cd /gdrive"
      ],
      "execution_count": null,
      "outputs": [
        {
          "output_type": "stream",
          "text": [
            "Go to this URL in a browser: https://accounts.google.com/o/oauth2/auth?client_id=947318989803-6bn6qk8qdgf4n4g3pfee6491hc0brc4i.apps.googleusercontent.com&redirect_uri=urn%3aietf%3awg%3aoauth%3a2.0%3aoob&response_type=code&scope=email%20https%3a%2f%2fwww.googleapis.com%2fauth%2fdocs.test%20https%3a%2f%2fwww.googleapis.com%2fauth%2fdrive%20https%3a%2f%2fwww.googleapis.com%2fauth%2fdrive.photos.readonly%20https%3a%2f%2fwww.googleapis.com%2fauth%2fpeopleapi.readonly\n",
            "\n",
            "Enter your authorization code:\n",
            "··········\n",
            "Mounted at /gdrive\n",
            "/gdrive\n"
          ],
          "name": "stdout"
        }
      ]
    },
    {
      "cell_type": "code",
      "metadata": {
        "id": "UdPPFCzxBQ5K",
        "colab_type": "code",
        "colab": {
          "base_uri": "https://localhost:8080/",
          "height": 1000
        },
        "outputId": "70e21fd1-8722-4852-d341-f383368314af"
      },
      "source": [
        "import numpy as np\n",
        "import tensorflow as tf\n",
        "import random as rn\n",
        "import os\n",
        "import json\n",
        "\n",
        "from keras import metrics, regularizers, optimizers, backend\n",
        "from keras.callbacks import TensorBoard, EarlyStopping\n",
        "from keras.models import Model\n",
        "from keras.layers import Input, Dense, LSTM, CuDNNLSTM, Flatten, Dropout, BatchNormalization\n",
        "from keras.utils import np_utils, vis_utils\n",
        "\n",
        "import scipy.io as sio\n",
        "\n",
        "# fix random seed\n",
        "os.environ['PYTHONHASHSEED'] = '0'\n",
        "np.random.seed(2018)\n",
        "rn.seed(2018)\n",
        "session_conf = tf.ConfigProto(intra_op_parallelism_threads=1, inter_op_parallelism_threads=4)\n",
        "tf.set_random_seed(2018)\n",
        "sess = tf.Session(graph=tf.get_default_graph(), config=session_conf)\n",
        "backend.set_session(sess)\n",
        "\n",
        "seqLen = 128\n",
        "nClass = 4\n",
        "samNum = 100000 * nClass\n",
        "# load train data\n",
        "x_data_mat = sio.loadmat('/content/drive/My Drive/train_data_awgn_100k.mat')\n",
        "x_data_complex = x_data_mat['train_data']\n",
        "x_data_real = x_data_complex.real\n",
        "x_data_imag = x_data_complex.imag\n",
        "x_data_real = x_data_real.reshape((x_data_real.shape[0], seqLen))\n",
        "x_data_imag = x_data_imag.reshape((x_data_imag.shape[0], seqLen))\n",
        "x_train = np.stack((x_data_real, x_data_imag), axis=2)\n",
        "y_data_mat = sio.loadmat('/content/drive/My Drive/train_label_awgn_100k.mat')\n",
        "y_data = y_data_mat['train_label'][:,0]\n",
        "y_snrs = y_data_mat['train_label'][:,1]\n",
        "y_train = np_utils.to_categorical(y_data, nClass)\n",
        "# train data shuffle\n",
        "index = np.arange(y_train.shape[0])\n",
        "np.random.shuffle(index)\n",
        "x_train = x_train[index,:]\n",
        "y_train = y_train[index]\n",
        "\n",
        "_in_ = Input(shape = (x_train.shape[1], x_train.shape[2]))\n",
        "ot = CuDNNLSTM(16, return_sequences=False)(_in_)\n",
        "#ot = Flatten()(ot)\n",
        "ot = BatchNormalization(axis=-1, momentum=0.99, epsilon=0.001, center=True, scale=True)(ot)\n",
        "ot = Dense(64, use_bias=True, activation='relu')(ot)\n",
        "ot = Dense(16, use_bias=True, activation='relu')(ot)\n",
        "_out_ = Dense(nClass, activation='softmax')(ot)\n",
        "model = Model(_in_, _out_)\n",
        "\n",
        "tensor_board = TensorBoard(log_dir='./tensorboard_log', histogram_freq=0, write_graph=True, write_images=False,\n",
        "                            embeddings_freq=0, embeddings_layer_names=None, embeddings_metadata=None)\n",
        "early_stopping = EarlyStopping(monitor='val_loss', patience=15)\n",
        "adam = optimizers.Adam(lr=0.001, beta_1=0.9, beta_2=0.999, epsilon=1e-08)\n",
        "model.compile(loss='categorical_crossentropy',\n",
        "               optimizer=adam, \n",
        "               metrics=['categorical_accuracy'])\n",
        "model.fit(x_train,\n",
        "          y_train, \n",
        "          epochs=100, \n",
        "          batch_size=128,\n",
        "          validation_split=0.1,\n",
        "          shuffle=True,callbacks=[early_stopping])\n",
        "          #callbacks=[])\n",
        "          #callbacks=[tensor_board])\n",
        "          #callbacks=[early_stopping])\n",
        "          #callbacks=[tensor_board, early_stopping])\n",
        "model.summary()\n",
        "\n"
      ],
      "execution_count": null,
      "outputs": [
        {
          "output_type": "stream",
          "text": [
            "Train on 360000 samples, validate on 40000 samples\n",
            "Epoch 1/100\n",
            "360000/360000 [==============================] - 39s 108us/step - loss: 0.6170 - categorical_accuracy: 0.6561 - val_loss: 0.4683 - val_categorical_accuracy: 0.7419\n",
            "Epoch 2/100\n",
            "360000/360000 [==============================] - 38s 107us/step - loss: 0.4615 - categorical_accuracy: 0.7554 - val_loss: 0.4499 - val_categorical_accuracy: 0.7629\n",
            "Epoch 3/100\n",
            "360000/360000 [==============================] - 38s 107us/step - loss: 0.4442 - categorical_accuracy: 0.7658 - val_loss: 0.4338 - val_categorical_accuracy: 0.7713\n",
            "Epoch 4/100\n",
            "360000/360000 [==============================] - 38s 107us/step - loss: 0.4337 - categorical_accuracy: 0.7714 - val_loss: 0.4223 - val_categorical_accuracy: 0.7797\n",
            "Epoch 5/100\n",
            "360000/360000 [==============================] - 39s 108us/step - loss: 0.4246 - categorical_accuracy: 0.7775 - val_loss: 0.4428 - val_categorical_accuracy: 0.7682\n",
            "Epoch 6/100\n",
            "360000/360000 [==============================] - 39s 108us/step - loss: 0.4190 - categorical_accuracy: 0.7809 - val_loss: 0.4089 - val_categorical_accuracy: 0.7887\n",
            "Epoch 7/100\n",
            "360000/360000 [==============================] - 39s 108us/step - loss: 0.4144 - categorical_accuracy: 0.7835 - val_loss: 0.4254 - val_categorical_accuracy: 0.7841\n",
            "Epoch 8/100\n",
            "360000/360000 [==============================] - 39s 108us/step - loss: 0.4106 - categorical_accuracy: 0.7860 - val_loss: 0.4034 - val_categorical_accuracy: 0.7900\n",
            "Epoch 9/100\n",
            "360000/360000 [==============================] - 39s 107us/step - loss: 0.4079 - categorical_accuracy: 0.7872 - val_loss: 0.4030 - val_categorical_accuracy: 0.7910\n",
            "Epoch 10/100\n",
            "360000/360000 [==============================] - 39s 108us/step - loss: 0.4064 - categorical_accuracy: 0.7881 - val_loss: 0.4154 - val_categorical_accuracy: 0.7862\n",
            "Epoch 11/100\n",
            "360000/360000 [==============================] - 39s 107us/step - loss: 0.4040 - categorical_accuracy: 0.7897 - val_loss: 0.4075 - val_categorical_accuracy: 0.7911\n",
            "Epoch 12/100\n",
            "360000/360000 [==============================] - 39s 108us/step - loss: 0.4019 - categorical_accuracy: 0.7907 - val_loss: 0.4053 - val_categorical_accuracy: 0.7847\n",
            "Epoch 13/100\n",
            "360000/360000 [==============================] - 39s 108us/step - loss: 0.4011 - categorical_accuracy: 0.7909 - val_loss: 0.3977 - val_categorical_accuracy: 0.7916\n",
            "Epoch 14/100\n",
            "360000/360000 [==============================] - 39s 107us/step - loss: 0.3994 - categorical_accuracy: 0.7919 - val_loss: 0.4425 - val_categorical_accuracy: 0.7801\n",
            "Epoch 15/100\n",
            "360000/360000 [==============================] - 39s 107us/step - loss: 0.3982 - categorical_accuracy: 0.7928 - val_loss: 0.4089 - val_categorical_accuracy: 0.7856\n",
            "Epoch 16/100\n",
            "360000/360000 [==============================] - 39s 108us/step - loss: 0.3969 - categorical_accuracy: 0.7938 - val_loss: 0.4040 - val_categorical_accuracy: 0.7893\n",
            "Epoch 17/100\n",
            "360000/360000 [==============================] - 38s 107us/step - loss: 0.3965 - categorical_accuracy: 0.7936 - val_loss: 0.3930 - val_categorical_accuracy: 0.7933\n",
            "Epoch 18/100\n",
            "360000/360000 [==============================] - 39s 107us/step - loss: 0.3946 - categorical_accuracy: 0.7952 - val_loss: 0.4046 - val_categorical_accuracy: 0.7913\n",
            "Epoch 19/100\n",
            "360000/360000 [==============================] - 38s 107us/step - loss: 0.3940 - categorical_accuracy: 0.7956 - val_loss: 0.4036 - val_categorical_accuracy: 0.7915\n",
            "Epoch 20/100\n",
            "360000/360000 [==============================] - 39s 107us/step - loss: 0.3930 - categorical_accuracy: 0.7962 - val_loss: 0.4012 - val_categorical_accuracy: 0.7914\n",
            "Epoch 21/100\n",
            "360000/360000 [==============================] - 39s 107us/step - loss: 0.3929 - categorical_accuracy: 0.7963 - val_loss: 0.4138 - val_categorical_accuracy: 0.7846\n",
            "Epoch 22/100\n",
            "360000/360000 [==============================] - 38s 107us/step - loss: 0.3918 - categorical_accuracy: 0.7966 - val_loss: 0.4012 - val_categorical_accuracy: 0.7896\n",
            "Epoch 23/100\n",
            "360000/360000 [==============================] - 39s 107us/step - loss: 0.3911 - categorical_accuracy: 0.7969 - val_loss: 0.3948 - val_categorical_accuracy: 0.7951\n",
            "Epoch 24/100\n",
            "360000/360000 [==============================] - 39s 109us/step - loss: 0.3909 - categorical_accuracy: 0.7963 - val_loss: 0.3948 - val_categorical_accuracy: 0.7959\n",
            "Epoch 25/100\n",
            "360000/360000 [==============================] - 38s 106us/step - loss: 0.3903 - categorical_accuracy: 0.7972 - val_loss: 0.3948 - val_categorical_accuracy: 0.7947\n",
            "Epoch 26/100\n",
            "360000/360000 [==============================] - 38s 106us/step - loss: 0.3900 - categorical_accuracy: 0.7982 - val_loss: 0.3889 - val_categorical_accuracy: 0.7977\n",
            "Epoch 27/100\n",
            "360000/360000 [==============================] - 37s 104us/step - loss: 0.3894 - categorical_accuracy: 0.7983 - val_loss: 0.3916 - val_categorical_accuracy: 0.7984\n",
            "Epoch 28/100\n",
            "360000/360000 [==============================] - 38s 106us/step - loss: 0.3888 - categorical_accuracy: 0.7979 - val_loss: 0.3958 - val_categorical_accuracy: 0.7933\n",
            "Epoch 29/100\n",
            "360000/360000 [==============================] - 39s 107us/step - loss: 0.3883 - categorical_accuracy: 0.7984 - val_loss: 0.3918 - val_categorical_accuracy: 0.7954\n",
            "Epoch 30/100\n",
            "360000/360000 [==============================] - 38s 106us/step - loss: 0.3878 - categorical_accuracy: 0.7985 - val_loss: 0.3963 - val_categorical_accuracy: 0.7957\n",
            "Epoch 31/100\n",
            "360000/360000 [==============================] - 38s 107us/step - loss: 0.3878 - categorical_accuracy: 0.7989 - val_loss: 0.3931 - val_categorical_accuracy: 0.7962\n",
            "Epoch 32/100\n",
            "360000/360000 [==============================] - 39s 108us/step - loss: 0.3878 - categorical_accuracy: 0.7985 - val_loss: 0.3934 - val_categorical_accuracy: 0.7969\n",
            "Epoch 33/100\n",
            "360000/360000 [==============================] - 38s 106us/step - loss: 0.3879 - categorical_accuracy: 0.7987 - val_loss: 0.3876 - val_categorical_accuracy: 0.7989\n",
            "Epoch 34/100\n",
            "360000/360000 [==============================] - 39s 107us/step - loss: 0.3870 - categorical_accuracy: 0.7992 - val_loss: 0.3928 - val_categorical_accuracy: 0.7974\n",
            "Epoch 35/100\n",
            "360000/360000 [==============================] - 38s 107us/step - loss: 0.3868 - categorical_accuracy: 0.7993 - val_loss: 0.4006 - val_categorical_accuracy: 0.7931\n",
            "Epoch 36/100\n",
            "360000/360000 [==============================] - 38s 107us/step - loss: 0.3868 - categorical_accuracy: 0.7990 - val_loss: 0.3883 - val_categorical_accuracy: 0.7982\n",
            "Epoch 37/100\n",
            "360000/360000 [==============================] - 38s 107us/step - loss: 0.3866 - categorical_accuracy: 0.7997 - val_loss: 0.3989 - val_categorical_accuracy: 0.7953\n",
            "Epoch 38/100\n",
            "360000/360000 [==============================] - 38s 107us/step - loss: 0.3865 - categorical_accuracy: 0.7999 - val_loss: 0.3928 - val_categorical_accuracy: 0.7987\n",
            "Epoch 39/100\n",
            "360000/360000 [==============================] - 38s 107us/step - loss: 0.3862 - categorical_accuracy: 0.7998 - val_loss: 0.3921 - val_categorical_accuracy: 0.7951\n",
            "Epoch 40/100\n",
            "360000/360000 [==============================] - 39s 108us/step - loss: 0.3859 - categorical_accuracy: 0.7996 - val_loss: 0.3994 - val_categorical_accuracy: 0.7933\n",
            "Epoch 41/100\n",
            "360000/360000 [==============================] - 38s 106us/step - loss: 0.3858 - categorical_accuracy: 0.7996 - val_loss: 0.3918 - val_categorical_accuracy: 0.7973\n",
            "Epoch 42/100\n",
            "360000/360000 [==============================] - 38s 106us/step - loss: 0.3853 - categorical_accuracy: 0.8000 - val_loss: 0.3978 - val_categorical_accuracy: 0.7923\n",
            "Epoch 43/100\n",
            "360000/360000 [==============================] - 38s 106us/step - loss: 0.3857 - categorical_accuracy: 0.7993 - val_loss: 0.3878 - val_categorical_accuracy: 0.8000\n",
            "Epoch 44/100\n",
            "360000/360000 [==============================] - 38s 106us/step - loss: 0.3853 - categorical_accuracy: 0.7998 - val_loss: 0.3934 - val_categorical_accuracy: 0.7971\n",
            "Epoch 45/100\n",
            "360000/360000 [==============================] - 39s 107us/step - loss: 0.3852 - categorical_accuracy: 0.8003 - val_loss: 0.3862 - val_categorical_accuracy: 0.8004\n",
            "Epoch 46/100\n",
            "360000/360000 [==============================] - 38s 106us/step - loss: 0.3849 - categorical_accuracy: 0.8004 - val_loss: 0.3867 - val_categorical_accuracy: 0.7994\n",
            "Epoch 47/100\n",
            "360000/360000 [==============================] - 38s 107us/step - loss: 0.3847 - categorical_accuracy: 0.7998 - val_loss: 0.3880 - val_categorical_accuracy: 0.7994\n",
            "Epoch 48/100\n",
            "360000/360000 [==============================] - 39s 108us/step - loss: 0.3847 - categorical_accuracy: 0.8002 - val_loss: 0.3866 - val_categorical_accuracy: 0.8004\n",
            "Epoch 49/100\n",
            "360000/360000 [==============================] - 38s 107us/step - loss: 0.3847 - categorical_accuracy: 0.8000 - val_loss: 0.3920 - val_categorical_accuracy: 0.7966\n",
            "Epoch 50/100\n",
            "360000/360000 [==============================] - 39s 107us/step - loss: 0.3845 - categorical_accuracy: 0.8005 - val_loss: 0.3989 - val_categorical_accuracy: 0.7937\n",
            "Epoch 51/100\n",
            "360000/360000 [==============================] - 39s 107us/step - loss: 0.3844 - categorical_accuracy: 0.8005 - val_loss: 0.3878 - val_categorical_accuracy: 0.7970\n",
            "Epoch 52/100\n",
            "360000/360000 [==============================] - 38s 106us/step - loss: 0.3842 - categorical_accuracy: 0.8004 - val_loss: 0.3983 - val_categorical_accuracy: 0.7893\n",
            "Epoch 53/100\n",
            "360000/360000 [==============================] - 38s 107us/step - loss: 0.3841 - categorical_accuracy: 0.8011 - val_loss: 0.3902 - val_categorical_accuracy: 0.7982\n",
            "Epoch 54/100\n",
            "360000/360000 [==============================] - 38s 106us/step - loss: 0.3842 - categorical_accuracy: 0.8005 - val_loss: 0.3905 - val_categorical_accuracy: 0.7994\n",
            "Epoch 55/100\n",
            "360000/360000 [==============================] - 38s 106us/step - loss: 0.3842 - categorical_accuracy: 0.8011 - val_loss: 0.3879 - val_categorical_accuracy: 0.7983\n",
            "Epoch 56/100\n",
            "360000/360000 [==============================] - 39s 108us/step - loss: 0.3837 - categorical_accuracy: 0.8004 - val_loss: 0.3904 - val_categorical_accuracy: 0.7951\n",
            "Epoch 57/100\n",
            "360000/360000 [==============================] - 38s 107us/step - loss: 0.3838 - categorical_accuracy: 0.8003 - val_loss: 0.4016 - val_categorical_accuracy: 0.7934\n",
            "Epoch 58/100\n",
            "360000/360000 [==============================] - 38s 106us/step - loss: 0.3838 - categorical_accuracy: 0.8004 - val_loss: 0.3866 - val_categorical_accuracy: 0.8013\n",
            "Epoch 59/100\n",
            "360000/360000 [==============================] - 38s 106us/step - loss: 0.3837 - categorical_accuracy: 0.8010 - val_loss: 0.3924 - val_categorical_accuracy: 0.7950\n",
            "Epoch 60/100\n",
            "360000/360000 [==============================] - 38s 106us/step - loss: 0.3836 - categorical_accuracy: 0.8008 - val_loss: 0.3894 - val_categorical_accuracy: 0.7966\n",
            "Model: \"model_2\"\n",
            "_________________________________________________________________\n",
            "Layer (type)                 Output Shape              Param #   \n",
            "=================================================================\n",
            "input_3 (InputLayer)         (None, 128, 2)            0         \n",
            "_________________________________________________________________\n",
            "cu_dnnlstm_3 (CuDNNLSTM)     (None, 16)                1280      \n",
            "_________________________________________________________________\n",
            "batch_normalization_2 (Batch (None, 16)                64        \n",
            "_________________________________________________________________\n",
            "dense_4 (Dense)              (None, 64)                1088      \n",
            "_________________________________________________________________\n",
            "dense_5 (Dense)              (None, 16)                1040      \n",
            "_________________________________________________________________\n",
            "dense_6 (Dense)              (None, 4)                 68        \n",
            "=================================================================\n",
            "Total params: 3,540\n",
            "Trainable params: 3,508\n",
            "Non-trainable params: 32\n",
            "_________________________________________________________________\n"
          ],
          "name": "stdout"
        }
      ]
    },
    {
      "cell_type": "code",
      "metadata": {
        "id": "8u0eO80QwRcw",
        "colab_type": "code",
        "colab": {}
      },
      "source": [
        "model.save_weights('/content/drive/My Drive/model_weights_rnn_lite_awgn.h5')"
      ],
      "execution_count": null,
      "outputs": []
    },
    {
      "cell_type": "code",
      "metadata": {
        "id": "lDaBFdXL05tJ",
        "colab_type": "code",
        "colab": {}
      },
      "source": [
        "acc_array_cumulants_awgn=[0.247500,0.247500,0.267500,0.242500,0.260000,0.315000,0.457500,0.632500,0.845000,0.950000,0.985000,1.000000,1.000000,1.000000,1.000000,1.000000]"
      ],
      "execution_count": null,
      "outputs": []
    },
    {
      "cell_type": "code",
      "metadata": {
        "id": "5MmLdx1kBt2H",
        "colab_type": "code",
        "colab": {}
      },
      "source": [
        "X_test_mat=sio.loadmat('/content/drive/My Drive/train_data_awgn_10k.mat')\n",
        "Y_test_mat=sio.loadmat('/content/drive/My Drive/train_label_awgn_10k.mat')\n",
        "X_test_complex = X_test_mat['train_data']\n",
        "X_test_real = X_test_complex.real\n",
        "X_test_imag = X_test_complex.imag\n",
        "X_test_real = X_test_real.reshape((X_test_real.shape[0], seqLen))\n",
        "X_test_imag = X_test_imag.reshape((X_test_imag.shape[0], seqLen))\n",
        "X_test = np.stack((X_test_real, X_test_imag), axis=2)"
      ],
      "execution_count": null,
      "outputs": []
    },
    {
      "cell_type": "code",
      "metadata": {
        "id": "MlUM5J5QXLI6",
        "colab_type": "code",
        "colab": {
          "base_uri": "https://localhost:8080/",
          "height": 35
        },
        "outputId": "11a6170b-7467-4553-f671-7a504e8ff259"
      },
      "source": [
        "fucked=Y_test_mat['train_label']\n",
        "Y_test=fucked[:,0]\n",
        "Y_test_snrs=fucked[:,1]\n",
        "Y_test=np_utils.to_categorical(Y_test,4)\n",
        "score = model.evaluate(X_test, Y_test,  verbose=0)\n",
        "print(score)\n",
        "#test_Y_hat = model.predict(X_test)"
      ],
      "execution_count": null,
      "outputs": [
        {
          "output_type": "stream",
          "text": [
            "[0.38159793635606765, 0.8]\n"
          ],
          "name": "stdout"
        }
      ]
    },
    {
      "cell_type": "code",
      "metadata": {
        "id": "ux-qEeAHtoNd",
        "colab_type": "code",
        "colab": {}
      },
      "source": [
        "acc_array_cumulants_rayleigh=[0.2500, 0.2458 ,   0.2542  ,  0.2833  ,  0.3167  ,  0.3958  ,  0.4125   , 0.5875  ,  0.6792 ,   0.7458  ,  0.8167 ,   0.8750,  0.9417 ,   0.9375 ,   0.9708 ,   0.9625]"
      ],
      "execution_count": null,
      "outputs": []
    },
    {
      "cell_type": "code",
      "metadata": {
        "id": "_viheZlCuIKN",
        "colab_type": "code",
        "colab": {}
      },
      "source": [
        "snrs=np.arange(-10,21,2)"
      ],
      "execution_count": null,
      "outputs": []
    },
    {
      "cell_type": "code",
      "metadata": {
        "id": "kb1pF5BM4Roq",
        "colab_type": "code",
        "colab": {
          "base_uri": "https://localhost:8080/",
          "height": 605
        },
        "outputId": "eb4f63fe-be91-4841-d043-14b535facf6c"
      },
      "source": [
        "\n",
        "acc_lstm_awgn = {}\n",
        "for snr in snrs:\n",
        "    # extract classes @ SNR\n",
        "    #test_SNRs = list(map(lambda x: lbl[x][1], test_idx))\n",
        "    test_X_i = X_test[np.where(np.array(Y_test_snrs)==snr)]\n",
        "    test_Y_i = Y_test[np.where(np.array(Y_test_snrs)==snr)]  \n",
        "    test_Y_i_hat = model.predict(test_X_i.reshape(test_X_i.shape[0],128,2))\n",
        "    conf = np.zeros([4,4])\n",
        "    confnorm = np.zeros([4,4])\n",
        "    for i in range(0,test_X_i.shape[0]):\n",
        "        j = list(test_Y_i[i,:]).index(1)\n",
        "        k = int(np.argmax(test_Y_i_hat[i,:]))\n",
        "        conf[j,k] = conf[j,k] + 1\n",
        "    for i in range(0,4):\n",
        "        confnorm[i,:] = conf[i,:] / np.sum(conf[i,:])\n",
        "    #plt.figure()\n",
        "    #plot_confusion_matrix(confnorm, labels=classes, title=\"ConvNet Confusion Matrix (SNR=%d)\"%(snr))\n",
        "    \n",
        "    cor = np.sum(np.diag(conf))\n",
        "    ncor = np.sum(conf) - cor\n",
        "    print(\"Overall Accuracy: \", cor / (cor+ncor))\n",
        "    print(\"snr=\",snr)\n",
        "    acc_lstm_awgn[snr] = 1.0*cor/(cor+ncor)"
      ],
      "execution_count": null,
      "outputs": [
        {
          "output_type": "stream",
          "text": [
            "Overall Accuracy:  0.3460434604346043\n",
            "snr= -10\n",
            "Overall Accuracy:  0.3839249286005712\n",
            "snr= -8\n",
            "Overall Accuracy:  0.44208037825059104\n",
            "snr= -6\n",
            "Overall Accuracy:  0.5149130074565037\n",
            "snr= -4\n",
            "Overall Accuracy:  0.6153232242617718\n",
            "snr= -2\n",
            "Overall Accuracy:  0.7004698512137824\n",
            "snr= 0\n",
            "Overall Accuracy:  0.8527755430410298\n",
            "snr= 2\n",
            "Overall Accuracy:  0.9338205440519691\n",
            "snr= 4\n",
            "Overall Accuracy:  0.9813046937151949\n",
            "snr= 6\n",
            "Overall Accuracy:  0.9988175009854159\n",
            "snr= 8\n",
            "Overall Accuracy:  1.0\n",
            "snr= 10\n",
            "Overall Accuracy:  1.0\n",
            "snr= 12\n",
            "Overall Accuracy:  1.0\n",
            "snr= 14\n",
            "Overall Accuracy:  1.0\n",
            "snr= 16\n",
            "Overall Accuracy:  1.0\n",
            "snr= 18\n",
            "Overall Accuracy:  1.0\n",
            "snr= 20\n"
          ],
          "name": "stdout"
        }
      ]
    },
    {
      "cell_type": "code",
      "metadata": {
        "id": "KI4wf_v_uskI",
        "colab_type": "code",
        "colab": {}
      },
      "source": [
        "import matplotlib.pyplot as plt"
      ],
      "execution_count": null,
      "outputs": []
    },
    {
      "cell_type": "code",
      "metadata": {
        "id": "RNs8gRNnuc4h",
        "colab_type": "code",
        "colab": {
          "base_uri": "https://localhost:8080/",
          "height": 279
        },
        "outputId": "2744e1a4-9d9c-4f6d-903e-23007bb42530"
      },
      "source": [
        "plt.plot(snrs, list(map(lambda x: acc_lstm_awgn[x], snrs)),'k--',label='LSTM')\n",
        "plt.plot(snrs, acc_array_cumulants_awgn,'k-',label='Cumulants')\n",
        "plt.xlabel(\"Signal to Noise Ratio\")\n",
        "plt.ylabel(\"Accuracy\")\n",
        "plt.legend()\n",
        "plt.savefig('/content/drive/My Drive/lstm_vs_cum_awgn.png',figsize=(15,7.5), dpi= 100)\t#save image"
      ],
      "execution_count": null,
      "outputs": [
        {
          "output_type": "display_data",
          "data": {
            "image/png": "[encoded data removed]",
            "text/plain": [
              "<Figure size 432x288 with 1 Axes>"
            ]
          },
          "metadata": {
            "tags": []
          }
        }
      ]
    },
    {
      "cell_type": "code",
      "metadata": {
        "id": "EMH0ExVguqZ_",
        "colab_type": "code",
        "colab": {
          "base_uri": "https://localhost:8080/",
          "height": 311
        },
        "outputId": "c621ff38-6c9a-4d3b-acce-83dc8b4bb603"
      },
      "source": [
        "list(map(lambda x: acc_lstm_awgn[x], snrs))"
      ],
      "execution_count": null,
      "outputs": [
        {
          "output_type": "execute_result",
          "data": {
            "text/plain": [
              "[0.3460434604346043,\n",
              " 0.3839249286005712,\n",
              " 0.44208037825059104,\n",
              " 0.5149130074565037,\n",
              " 0.6153232242617718,\n",
              " 0.7004698512137824,\n",
              " 0.8527755430410298,\n",
              " 0.9338205440519691,\n",
              " 0.9813046937151949,\n",
              " 0.9988175009854159,\n",
              " 1.0,\n",
              " 1.0,\n",
              " 1.0,\n",
              " 1.0,\n",
              " 1.0,\n",
              " 1.0]"
            ]
          },
          "metadata": {
            "tags": []
          },
          "execution_count": 31
        }
      ]
    },
    {
      "cell_type": "code",
      "metadata": {
        "id": "Ql0AwtHa_Y5d",
        "colab_type": "code",
        "colab": {
          "base_uri": "https://localhost:8080/",
          "height": 311
        },
        "outputId": "7b5fe643-01a4-4567-e1f0-f09e77232b07"
      },
      "source": [
        "list(map(lambda x: acc_lstm_rayleigh[x], snrs))"
      ],
      "execution_count": null,
      "outputs": [
        {
          "output_type": "execute_result",
          "data": {
            "text/plain": [
              "[0.2826534816646065,\n",
              " 0.3249370277078086,\n",
              " 0.3669579030976966,\n",
              " 0.4213217938630999,\n",
              " 0.47513812154696133,\n",
              " 0.5663430420711975,\n",
              " 0.6441368078175895,\n",
              " 0.7141104294478527,\n",
              " 0.7864,\n",
              " 0.8565815324165029,\n",
              " 0.8978790259230165,\n",
              " 0.9360675512665863,\n",
              " 0.9613259668508287,\n",
              " 0.9721459395841506,\n",
              " 0.9842368319876971,\n",
              " 0.991876523151909]"
            ]
          },
          "metadata": {
            "tags": []
          },
          "execution_count": 32
        }
      ]
    },
    {
      "cell_type": "code",
      "metadata": {
        "id": "ibX-LuVdAOJF",
        "colab_type": "code",
        "colab": {
          "base_uri": "https://localhost:8080/",
          "height": 311
        },
        "outputId": "ef845bd1-7c4c-4b0f-dc0a-9985bcbfe458"
      },
      "source": [
        "acc_array_cumulants_awgn"
      ],
      "execution_count": null,
      "outputs": [
        {
          "output_type": "execute_result",
          "data": {
            "text/plain": [
              "[0.2475,\n",
              " 0.2475,\n",
              " 0.2675,\n",
              " 0.2425,\n",
              " 0.26,\n",
              " 0.315,\n",
              " 0.4575,\n",
              " 0.6325,\n",
              " 0.845,\n",
              " 0.95,\n",
              " 0.985,\n",
              " 1.0,\n",
              " 1.0,\n",
              " 1.0,\n",
              " 1.0,\n",
              " 1.0]"
            ]
          },
          "metadata": {
            "tags": []
          },
          "execution_count": 29
        }
      ]
    },
    {
      "cell_type": "code",
      "metadata": {
        "id": "FMZA2lyZ_oyH",
        "colab_type": "code",
        "colab": {
          "base_uri": "https://localhost:8080/",
          "height": 311
        },
        "outputId": "d3c7a473-f81e-49d1-8cab-48f3397f0c33"
      },
      "source": [
        "acc_array_cumulants_rayleigh"
      ],
      "execution_count": null,
      "outputs": [
        {
          "output_type": "execute_result",
          "data": {
            "text/plain": [
              "[0.25,\n",
              " 0.2458,\n",
              " 0.2542,\n",
              " 0.2833,\n",
              " 0.3167,\n",
              " 0.3958,\n",
              " 0.4125,\n",
              " 0.5875,\n",
              " 0.6792,\n",
              " 0.7458,\n",
              " 0.8167,\n",
              " 0.875,\n",
              " 0.9417,\n",
              " 0.9375,\n",
              " 0.9708,\n",
              " 0.9625]"
            ]
          },
          "metadata": {
            "tags": []
          },
          "execution_count": 30
        }
      ]
    },
    {
      "cell_type": "code",
      "metadata": {
        "id": "Y8NfjLZhAdbW",
        "colab_type": "code",
        "colab": {}
      },
      "source": [
        ""
      ],
      "execution_count": null,
      "outputs": []
    }
  ]
}