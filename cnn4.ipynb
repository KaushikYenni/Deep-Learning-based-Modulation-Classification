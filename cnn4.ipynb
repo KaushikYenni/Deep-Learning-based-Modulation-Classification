{
  "nbformat": 4,
  "nbformat_minor": 0,
  "metadata": {
    "colab": {
      "name": "mydataipynb",
      "provenance": []
    },
    "kernelspec": {
      "name": "python3",
      "display_name": "Python 3"
    },
    "accelerator": "GPU"
  },
  "cells": [
    {
      "cell_type": "code",
      "metadata": {
        "id": "cI30RI-gSomt",
        "colab_type": "code",
        "colab": {}
      },
      "source": [
        ""
      ],
      "execution_count": null,
      "outputs": []
    },
    {
      "cell_type": "code",
      "metadata": {
        "id": "ioQhR_iQS3f2",
        "colab_type": "code",
        "colab": {
          "base_uri": "https://localhost:8080/",
          "height": 129
        },
        "outputId": "6c20ddd3-9d1a-4a76-e31b-797405330f69"
      },
      "source": [
        "from google.colab import drive\n",
        "drive.mount('/content/drive')"
      ],
      "execution_count": null,
      "outputs": [
        {
          "output_type": "stream",
          "text": [
            "Go to this URL in a browser: https://accounts.google.com/o/oauth2/auth?client_id=947318989803-6bn6qk8qdgf4n4g3pfee6491hc0brc4i.apps.googleusercontent.com&redirect_uri=urn%3aietf%3awg%3aoauth%3a2.0%3aoob&response_type=code&scope=email%20https%3a%2f%2fwww.googleapis.com%2fauth%2fdocs.test%20https%3a%2f%2fwww.googleapis.com%2fauth%2fdrive%20https%3a%2f%2fwww.googleapis.com%2fauth%2fdrive.photos.readonly%20https%3a%2f%2fwww.googleapis.com%2fauth%2fpeopleapi.readonly\n",
            "\n",
            "Enter your authorization code:\n",
            "··········\n",
            "Mounted at /content/drive\n"
          ],
          "name": "stdout"
        }
      ]
    },
    {
      "cell_type": "code",
      "metadata": {
        "id": "7iTeKHB_TFvh",
        "colab_type": "code",
        "colab": {}
      },
      "source": [
        "import os,random\n",
        "#os.environ[\"KERAS_BACKEND\"] = \"theano\"\n",
        "os.environ[\"KERAS_BACKEND\"] = \"tensorflow\"\n",
        "#os.environ[\"THEANO_FLAGS\"]  = \"device=gpu%d\"%(2)   #disabled because we do not have a hardware GPU\n",
        "import numpy as np\n",
        "#import theano as th\n",
        "#import theano.tensor as T\n",
        "from keras.utils import np_utils\n",
        "import keras.models as models\n",
        "from keras.layers import Input,merge\n",
        "from keras.layers.core import Reshape,Dense,Dropout,Activation,Flatten\n",
        "from keras.layers.noise import GaussianNoise\n",
        "from keras.layers.convolutional import Conv2D, MaxPooling2D, ZeroPadding2D\n",
        "from keras.models import Model\n",
        "from keras.regularizers import *\n",
        "from keras.optimizers import adam\n",
        "from keras.optimizers import adagrad\n",
        "import matplotlib\n",
        "matplotlib.use('Agg')\n",
        "import matplotlib.pyplot as plt\n",
        "import seaborn as sns\n",
        "import pickle, random, sys, keras\n",
        "from keras.utils import multi_gpu_model\n",
        "from keras import backend as K\n",
        "K.tensorflow_backend._get_available_gpus()\n",
        "import tensorflow as tf\n",
        "\n",
        "import scipy.io as sio"
      ],
      "execution_count": null,
      "outputs": []
    },
    {
      "cell_type": "code",
      "metadata": {
        "id": "MiSdOu2nTGRg",
        "colab_type": "code",
        "colab": {}
      },
      "source": [
        "# fix random seed\n",
        "os.environ['PYTHONHASHSEED'] = '0'\n",
        "np.random.seed(2018)\n",
        "#session_conf = tf.ConfigProto(intra_op_parallelism_threads=1, inter_op_parallelism_threads=4)\n"
      ],
      "execution_count": null,
      "outputs": []
    },
    {
      "cell_type": "code",
      "metadata": {
        "id": "9WLB7pXgT8Zz",
        "colab_type": "code",
        "colab": {}
      },
      "source": [
        "seqLen = 128\n",
        "nClass = 8\n",
        "samNum = 100000 * nClass\n",
        "# load train data\n",
        "x_data_mat = sio.loadmat('/content/drive/My Drive/train_data_8class_awgn.mat')\n",
        "x_data_complex = x_data_mat['train_data']\n",
        "x_data_real = x_data_complex.real\n",
        "x_data_imag = x_data_complex.imag\n",
        "x_data_real = x_data_real.reshape((x_data_real.shape[0], seqLen, 1))\n",
        "x_data_imag = x_data_imag.reshape((x_data_imag.shape[0], seqLen, 1))\n",
        "x_train = np.stack((x_data_real, x_data_imag), axis=1)\n",
        "y_data_mat = sio.loadmat('/content/drive/My Drive/train_label_8class_awgn.mat')\n",
        "y_data = y_data_mat['train_label']\n",
        "y_train = np_utils.to_categorical(y_data, nClass)"
      ],
      "execution_count": null,
      "outputs": []
    },
    {
      "cell_type": "code",
      "metadata": {
        "id": "aTaZHExFV7kr",
        "colab_type": "code",
        "colab": {
          "base_uri": "https://localhost:8080/",
          "height": 35
        },
        "outputId": "d953b8d3-6ac8-4717-e173-32e08b3e9a7c"
      },
      "source": [
        "x_train=np.reshape(x_train,(800000, 2, 128))\n",
        "x_train.shape"
      ],
      "execution_count": null,
      "outputs": [
        {
          "output_type": "execute_result",
          "data": {
            "text/plain": [
              "(800000, 2, 128)"
            ]
          },
          "metadata": {
            "tags": []
          },
          "execution_count": 10
        }
      ]
    },
    {
      "cell_type": "code",
      "metadata": {
        "id": "kCVt02swWoLH",
        "colab_type": "code",
        "colab": {
          "base_uri": "https://localhost:8080/",
          "height": 35
        },
        "outputId": "31c81c77-c5cd-4bae-a550-fec98a41c6e1"
      },
      "source": [
        "y_train.shape"
      ],
      "execution_count": null,
      "outputs": [
        {
          "output_type": "execute_result",
          "data": {
            "text/plain": [
              "(800000, 8)"
            ]
          },
          "metadata": {
            "tags": []
          },
          "execution_count": 11
        }
      ]
    },
    {
      "cell_type": "code",
      "metadata": {
        "id": "Ow5NyAmVUNLg",
        "colab_type": "code",
        "colab": {}
      },
      "source": [
        "index = np.arange(y_train.shape[0])\n",
        "np.random.shuffle(index)\n",
        "x_train = x_train[index,:]\n",
        "y_train = y_train[index]"
      ],
      "execution_count": null,
      "outputs": []
    },
    {
      "cell_type": "code",
      "metadata": {
        "id": "632j1f70W0bf",
        "colab_type": "code",
        "colab": {
          "base_uri": "https://localhost:8080/",
          "height": 35
        },
        "outputId": "a4cc2a90-4b90-4d2e-d7b8-f74b0c3326fb"
      },
      "source": [
        "type(x_train)"
      ],
      "execution_count": null,
      "outputs": [
        {
          "output_type": "execute_result",
          "data": {
            "text/plain": [
              "numpy.ndarray"
            ]
          },
          "metadata": {
            "tags": []
          },
          "execution_count": 13
        }
      ]
    },
    {
      "cell_type": "code",
      "metadata": {
        "id": "HyjdLT5UYK0M",
        "colab_type": "code",
        "colab": {}
      },
      "source": [
        "n_examples = x_train.shape[0]\n",
        "n_train = (n_examples*9)//10 \n",
        "train_idx = np.random.choice(range(0,n_examples), size=n_train, replace=False)\n",
        "test_idx = list(set(range(0,n_examples))-set(train_idx))\n",
        "X_train = x_train[train_idx]\n",
        "X_test =  x_train[test_idx]\n",
        "Y_train = y_train[train_idx]\n",
        "Y_test =  y_train[test_idx]"
      ],
      "execution_count": null,
      "outputs": []
    },
    {
      "cell_type": "code",
      "metadata": {
        "id": "H5EXP4haUrPu",
        "colab_type": "code",
        "colab": {
          "base_uri": "https://localhost:8080/",
          "height": 54
        },
        "outputId": "c03a0dc4-a719-4092-d788-5c15b11faf85"
      },
      "source": [
        "print('training started')\n",
        "in_shp = list(X_train.shape[1:])\n",
        "print(X_train.shape, in_shp)\n",
        "#classes = mods\n"
      ],
      "execution_count": null,
      "outputs": [
        {
          "output_type": "stream",
          "text": [
            "training started\n",
            "(720000, 2, 128) [2, 128]\n"
          ],
          "name": "stdout"
        }
      ]
    },
    {
      "cell_type": "code",
      "metadata": {
        "id": "s3lq8UIJU0B_",
        "colab_type": "code",
        "colab": {
          "base_uri": "https://localhost:8080/",
          "height": 1000
        },
        "outputId": "4e6db548-dfa6-4821-a092-287bcf76d3f8"
      },
      "source": [
        "dr = 0.2 # dropout rate (%)\n",
        "model = models.Sequential()\n",
        "model.add(Reshape([1]+in_shp, input_shape=in_shp))\n",
        "model.add(ZeroPadding2D((0,2), data_format=\"channels_first\"))\n",
        "# error message occurs here!!!\n",
        "model.add(Conv2D(kernel_initializer=\"glorot_uniform\", name=\"conv1\", activation=\"relu\", data_format=\"channels_first\", padding=\"valid\", filters=256, kernel_size=(1, 3)))\n",
        "model.add(Dropout(dr))\n",
        "model.add(ZeroPadding2D((0,2), data_format=\"channels_first\"))\n",
        "model.add(Conv2D(kernel_initializer=\"glorot_uniform\", name=\"conv2\", activation=\"relu\", data_format=\"channels_first\", padding=\"valid\", filters=256, kernel_size=(2, 3)))\n",
        "model.add(Dropout(dr))\n",
        "model.add(ZeroPadding2D((0,2), data_format=\"channels_first\"))\n",
        "model.add(Conv2D(kernel_initializer=\"glorot_uniform\", name=\"conv3\", activation=\"relu\", data_format=\"channels_first\", padding=\"valid\", filters=80, kernel_size=(1, 3)))\n",
        "model.add(Dropout(dr))\n",
        "model.add(ZeroPadding2D((0,2), data_format=\"channels_first\"))\n",
        "model.add(Conv2D(kernel_initializer=\"glorot_uniform\", name=\"conv4\", activation=\"relu\", data_format=\"channels_first\", padding=\"valid\", filters=80, kernel_size=(1, 3)))\n",
        "model.add(Dropout(dr))\n",
        "model.add(ZeroPadding2D((0, 2), data_format=\"channels_first\"))\n",
        "\n",
        "model.add(Flatten())\n",
        "# 128 (1) -> 11200; 64 (1/2) -> 6080; 32 (1/4) -> 3520; 16 (1/8) -> 2240; 8 (1/16) -> 1600; 4 (1/32) -> 1280\n",
        "model.add(Dense(256, activation='relu', init='he_normal', name=\"dense1\"))\n",
        "model.add(Dropout(dr))\n",
        "model.add(Dense( 8, init='he_normal', name=\"dense2\" ))\n",
        "model.add(Activation('softmax'))\n",
        "model.add(Reshape([8]))\n",
        "#opt=adam(lr=0.001, beta_1=0.9, beta_2=0.999, epsilon=1e-8)\n",
        "model.compile(loss='categorical_crossentropy', optimizer='adam')\n",
        "model.summary()\n",
        "#The shape of the input to \"Flatten\" is not fully defined (got (0, 6, 80). \n",
        "#Make sure to pass a complete \"input_shape\" or \"batch_input_shape\" argument to the first layer in your model.\n"
      ],
      "execution_count": null,
      "outputs": [
        {
          "output_type": "stream",
          "text": [
            "WARNING:tensorflow:From /usr/local/lib/python3.6/dist-packages/keras/backend/tensorflow_backend.py:541: The name tf.placeholder is deprecated. Please use tf.compat.v1.placeholder instead.\n",
            "\n",
            "WARNING:tensorflow:From /usr/local/lib/python3.6/dist-packages/keras/backend/tensorflow_backend.py:4432: The name tf.random_uniform is deprecated. Please use tf.random.uniform instead.\n",
            "\n",
            "WARNING:tensorflow:From /usr/local/lib/python3.6/dist-packages/keras/backend/tensorflow_backend.py:148: The name tf.placeholder_with_default is deprecated. Please use tf.compat.v1.placeholder_with_default instead.\n",
            "\n",
            "WARNING:tensorflow:From /usr/local/lib/python3.6/dist-packages/keras/backend/tensorflow_backend.py:3733: calling dropout (from tensorflow.python.ops.nn_ops) with keep_prob is deprecated and will be removed in a future version.\n",
            "Instructions for updating:\n",
            "Please use `rate` instead of `keep_prob`. Rate should be set to `rate = 1 - keep_prob`.\n",
            "WARNING:tensorflow:From /usr/local/lib/python3.6/dist-packages/keras/backend/tensorflow_backend.py:4479: The name tf.truncated_normal is deprecated. Please use tf.random.truncated_normal instead.\n",
            "\n",
            "WARNING:tensorflow:From /usr/local/lib/python3.6/dist-packages/keras/optimizers.py:793: The name tf.train.Optimizer is deprecated. Please use tf.compat.v1.train.Optimizer instead.\n",
            "\n",
            "WARNING:tensorflow:From /usr/local/lib/python3.6/dist-packages/keras/backend/tensorflow_backend.py:3576: The name tf.log is deprecated. Please use tf.math.log instead.\n",
            "\n",
            "Model: \"sequential_1\"\n",
            "_________________________________________________________________\n",
            "Layer (type)                 Output Shape              Param #   \n",
            "=================================================================\n",
            "reshape_1 (Reshape)          (None, 1, 2, 128)         0         \n",
            "_________________________________________________________________\n",
            "zero_padding2d_1 (ZeroPaddin (None, 1, 2, 132)         0         \n",
            "_________________________________________________________________\n",
            "conv1 (Conv2D)               (None, 256, 2, 130)       1024      \n",
            "_________________________________________________________________\n",
            "dropout_1 (Dropout)          (None, 256, 2, 130)       0         \n",
            "_________________________________________________________________\n",
            "zero_padding2d_2 (ZeroPaddin (None, 256, 2, 134)       0         \n",
            "_________________________________________________________________\n",
            "conv2 (Conv2D)               (None, 256, 1, 132)       393472    \n",
            "_________________________________________________________________\n",
            "dropout_2 (Dropout)          (None, 256, 1, 132)       0         \n",
            "_________________________________________________________________\n",
            "zero_padding2d_3 (ZeroPaddin (None, 256, 1, 136)       0         \n",
            "_________________________________________________________________\n",
            "conv3 (Conv2D)               (None, 80, 1, 134)        61520     \n",
            "_________________________________________________________________\n",
            "dropout_3 (Dropout)          (None, 80, 1, 134)        0         \n",
            "_________________________________________________________________\n",
            "zero_padding2d_4 (ZeroPaddin (None, 80, 1, 138)        0         \n",
            "_________________________________________________________________\n",
            "conv4 (Conv2D)               (None, 80, 1, 136)        19280     \n",
            "_________________________________________________________________\n",
            "dropout_4 (Dropout)          (None, 80, 1, 136)        0         \n",
            "_________________________________________________________________\n",
            "zero_padding2d_5 (ZeroPaddin (None, 80, 1, 140)        0         \n",
            "_________________________________________________________________\n",
            "flatten_1 (Flatten)          (None, 11200)             0         \n",
            "_________________________________________________________________\n",
            "dense1 (Dense)               (None, 256)               2867456   \n",
            "_________________________________________________________________\n",
            "dropout_5 (Dropout)          (None, 256)               0         \n",
            "_________________________________________________________________\n",
            "dense2 (Dense)               (None, 8)                 2056      \n",
            "_________________________________________________________________\n",
            "activation_1 (Activation)    (None, 8)                 0         \n",
            "_________________________________________________________________\n",
            "reshape_2 (Reshape)          (None, 8)                 0         \n",
            "=================================================================\n",
            "Total params: 3,344,808\n",
            "Trainable params: 3,344,808\n",
            "Non-trainable params: 0\n",
            "_________________________________________________________________\n"
          ],
          "name": "stdout"
        },
        {
          "output_type": "stream",
          "text": [
            "/usr/local/lib/python3.6/dist-packages/ipykernel_launcher.py:21: UserWarning: Update your `Dense` call to the Keras 2 API: `Dense(256, activation=\"relu\", name=\"dense1\", kernel_initializer=\"he_normal\")`\n",
            "/usr/local/lib/python3.6/dist-packages/ipykernel_launcher.py:23: UserWarning: Update your `Dense` call to the Keras 2 API: `Dense(8, name=\"dense2\", kernel_initializer=\"he_normal\")`\n"
          ],
          "name": "stderr"
        }
      ]
    },
    {
      "cell_type": "code",
      "metadata": {
        "id": "S9BedWN1U2SO",
        "colab_type": "code",
        "colab": {
          "base_uri": "https://localhost:8080/",
          "height": 496
        },
        "outputId": "0d9328d0-fee1-4325-d9c6-e88873c81485"
      },
      "source": [
        "# In[6]:\n",
        "# Set up some params \n",
        "nb_epoch = 100     # number of epochs to train on\n",
        "batch_size = 1024  # training batch size\n",
        "\n",
        "# In[7]:\n",
        "# Train the Model\n",
        "# perform training ...\n",
        "#   - call the main training loop in keras for our network+dataset\n",
        "filepath = '/content/drive/My Drive/mydatacnn256.wts.h5'\n",
        "#model = multi_gpu_model(models)\n",
        "model.compile(loss=keras.losses.categorical_crossentropy,\n",
        "              optimizer=keras.optimizers.Adam(lr=0.001),\n",
        "              metrics=['accuracy'])\n",
        "history = model.fit(X_train,\n",
        "    Y_train,\n",
        "    batch_size=batch_size,\n",
        "    epochs=nb_epoch,\n",
        "    validation_split=0.1,\n",
        "    callbacks = [\n",
        "        keras.callbacks.ModelCheckpoint(filepath, monitor='val_loss',  save_best_only=True, mode='auto'),\n",
        "        keras.callbacks.EarlyStopping(monitor='val_loss', patience=5,  mode='auto')\n",
        "    ])\n",
        "# we re-load the best weights once training is finished\n",
        "model.load_weights(filepath)"
      ],
      "execution_count": null,
      "outputs": [
        {
          "output_type": "stream",
          "text": [
            "Train on 648000 samples, validate on 72000 samples\n",
            "Epoch 1/100\n",
            "648000/648000 [==============================] - 289s 446us/step - loss: 0.7676 - acc: 0.6455 - val_loss: 0.7435 - val_acc: 0.6530\n",
            "Epoch 2/100\n",
            "648000/648000 [==============================] - 288s 445us/step - loss: 0.7523 - acc: 0.6508 - val_loss: 0.7387 - val_acc: 0.6555\n",
            "Epoch 3/100\n",
            "648000/648000 [==============================] - 290s 447us/step - loss: 0.7441 - acc: 0.6558 - val_loss: 0.7374 - val_acc: 0.6590\n",
            "Epoch 4/100\n",
            "648000/648000 [==============================] - 290s 447us/step - loss: 0.7388 - acc: 0.6581 - val_loss: 0.7520 - val_acc: 0.6504\n",
            "Epoch 5/100\n",
            "648000/648000 [==============================] - 289s 447us/step - loss: 0.7349 - acc: 0.6609 - val_loss: 0.7227 - val_acc: 0.6660\n",
            "Epoch 6/100\n",
            "648000/648000 [==============================] - 289s 445us/step - loss: 0.7289 - acc: 0.6649 - val_loss: 0.7284 - val_acc: 0.6622\n",
            "Epoch 7/100\n",
            "648000/648000 [==============================] - 288s 444us/step - loss: 0.7243 - acc: 0.6683 - val_loss: 0.7196 - val_acc: 0.6646\n",
            "Epoch 8/100\n",
            "648000/648000 [==============================] - 288s 445us/step - loss: 0.7205 - acc: 0.6702 - val_loss: 0.7264 - val_acc: 0.6647\n",
            "Epoch 9/100\n",
            "648000/648000 [==============================] - 286s 442us/step - loss: 0.7163 - acc: 0.6717 - val_loss: 0.7199 - val_acc: 0.6671\n",
            "Epoch 10/100\n",
            "648000/648000 [==============================] - 288s 444us/step - loss: 0.7135 - acc: 0.6739 - val_loss: 0.7299 - val_acc: 0.6603\n",
            "Epoch 11/100\n",
            "648000/648000 [==============================] - 286s 442us/step - loss: 0.7095 - acc: 0.6758 - val_loss: 0.7302 - val_acc: 0.6632\n",
            "Epoch 12/100\n",
            "648000/648000 [==============================] - 286s 442us/step - loss: 0.7069 - acc: 0.6768 - val_loss: 0.7311 - val_acc: 0.6611\n"
          ],
          "name": "stdout"
        }
      ]
    },
    {
      "cell_type": "code",
      "metadata": {
        "id": "2KpQv-G4VP7-",
        "colab_type": "code",
        "colab": {
          "base_uri": "https://localhost:8080/",
          "height": 35
        },
        "outputId": "53761c78-df18-4fb4-848e-6a1d13386180"
      },
      "source": [
        "# Evaluate and Plot Model Performance\n",
        "# Show simple version of performance\n",
        "score = model.evaluate(X_test, Y_test, batch_size=batch_size, verbose=0)\n",
        "print(score)"
      ],
      "execution_count": null,
      "outputs": [
        {
          "output_type": "stream",
          "text": [
            "[0.7217996305465698, 0.664675]\n"
          ],
          "name": "stdout"
        }
      ]
    },
    {
      "cell_type": "code",
      "metadata": {
        "id": "AXgphoiSfmRw",
        "colab_type": "code",
        "colab": {
          "base_uri": "https://localhost:8080/",
          "height": 281
        },
        "outputId": "13a10c11-1a2e-4438-ab27-7cec71824f20"
      },
      "source": [
        "# Show loss curves \n",
        "%matplotlib inline\n",
        "plt.figure()\n",
        "plt.title('Training performance')\n",
        "plt.plot(history.epoch, history.history['loss'], label='train loss+error')\n",
        "plt.plot(history.epoch, history.history['val_loss'], label='val_error')\n",
        "plt.legend()\n",
        "plt.savefig('/content/drive/My Drive/Train_perf_cnnmydata.png', dpi=100)\t#save image"
      ],
      "execution_count": null,
      "outputs": [
        {
          "output_type": "display_data",
          "data": {
            "image/png": "[encoded data removed]",
            "text/plain": [
              "<Figure size 432x288 with 1 Axes>"
            ]
          },
          "metadata": {
            "tags": []
          }
        }
      ]
    },
    {
      "cell_type": "code",
      "metadata": {
        "id": "5Xm8P22Efyn8",
        "colab_type": "code",
        "colab": {}
      },
      "source": [
        "classes=['BPSK','PAM4','PAM8','PSK4','PSK8','QAM4','QAM16','QAM64']"
      ],
      "execution_count": null,
      "outputs": []
    },
    {
      "cell_type": "code",
      "metadata": {
        "id": "QJ_NccZogU_v",
        "colab_type": "code",
        "colab": {}
      },
      "source": [
        "def plot_confusion_matrix(cm, title='Confusion matrix', cmap=plt.cm.Blues, labels=[]):\n",
        "    plt.imshow(cm, interpolation='nearest', cmap=cmap)\n",
        "    plt.title(title)\n",
        "    plt.colorbar()\n",
        "    tick_marks = np.arange(len(labels))\n",
        "    plt.xticks(tick_marks, labels, rotation=45)\n",
        "    plt.yticks(tick_marks, labels)\n",
        "    plt.tight_layout()\n",
        "    plt.ylabel('True label')\n",
        "    plt.xlabel('Predicted label')"
      ],
      "execution_count": null,
      "outputs": []
    },
    {
      "cell_type": "code",
      "metadata": {
        "id": "zMIKnNSRgXgN",
        "colab_type": "code",
        "colab": {
          "base_uri": "https://localhost:8080/",
          "height": 311
        },
        "outputId": "da4a3969-8613-49b2-e535-652d6e500f47"
      },
      "source": [
        "# Plot confusion matrix\n",
        "test_Y_hat = model.predict(X_test, batch_size=batch_size)\n",
        "conf = np.zeros([len(classes),len(classes)])\n",
        "confnorm = np.zeros([len(classes),len(classes)])\n",
        "for i in range(0,X_test.shape[0]):\n",
        "    j = list(Y_test[i,:]).index(1)\n",
        "    k = int(np.argmax(test_Y_hat[i,:]))\n",
        "    conf[j,k] = conf[j,k] + 1\n",
        "for i in range(0,len(classes)):\n",
        "    confnorm[i,:] = conf[i,:] / np.sum(conf[i,:])\n",
        "plot_confusion_matrix(confnorm, labels=classes)\n",
        "plt.savefig('/content/drive/My Drive/confusion_cnn_mydata.png',dpi=100)"
      ],
      "execution_count": null,
      "outputs": [
        {
          "output_type": "display_data",
          "data": {
            "image/png": "[encoded data removed]",
            "text/plain": [
              "<Figure size 432x288 with 2 Axes>"
            ]
          },
          "metadata": {
            "tags": []
          }
        }
      ]
    },
    {
      "cell_type": "code",
      "metadata": {
        "id": "XzAtCTsegcgi",
        "colab_type": "code",
        "colab": {}
      },
      "source": [
        ""
      ],
      "execution_count": null,
      "outputs": []
    }
  ]
}
